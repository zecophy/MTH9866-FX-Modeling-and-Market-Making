{
 "cells": [
  {
   "cell_type": "markdown",
   "metadata": {},
   "source": [
    "# Lecture 1 (Spot Markets) Assignment\n",
    "\n",
    "### Chenyu Zhao"
   ]
  },
  {
   "cell_type": "markdown",
   "metadata": {},
   "source": [
    "## Question 1 (2 marks)\n",
    "\n",
    "Describe the four factors that contribute to the bid and ask prices a market maker will show to a client during voice trading?"
   ]
  },
  {
   "cell_type": "markdown",
   "metadata": {},
   "source": [
    "### Answer\n",
    "\n",
    "1. Inter-dealer market: dealer would hedge in this market, if desired\n",
    "\n",
    "2. Current risk position: if dealer already has long position, he would give a lower ask price to motivate client to buy from him. If dealer already has a short position, he would give a higher bid price to motivate client to sell to him.  \n",
    "\n",
    "3. Market views: if dealer thinks the market will go up, he would give a higher bid price to motivate client to sell to him. The dealer is willing to take the risk in this way.\n",
    "\n",
    "4. Client behavior: dealer can get information from the client, thus adjust his strategy. If the client is always right, then the dealer can predict the future price direction by this client's request. "
   ]
  },
  {
   "cell_type": "markdown",
   "metadata": {},
   "source": [
    "## Question 2 (2 marks)\n",
    "\n",
    "Why has the daily turnover in the FX markets increased so much in the past fifteen years? Give some statistics."
   ]
  },
  {
   "cell_type": "markdown",
   "metadata": {},
   "source": [
    "### Answer\n",
    "\n",
    "Because over the last 15 years, trading has massively moved to electronic channels. This enable traders get more information, thus make the market more efficient.\n",
    "\n",
    "The following graph showed turnover in both spot and outright forwards. We can see it grows bigger as time goes by.\n",
    "![Turnover](./turnover.png)"
   ]
  },
  {
   "cell_type": "markdown",
   "metadata": {},
   "source": [
    "## Question 3 (4 marks)\n",
    "\n",
    "Describe the OTC market structure and the different roles involved in executing a trade. Describe the steps involved in executing a trade for voice trading and then for electronic trading."
   ]
  },
  {
   "cell_type": "markdown",
   "metadata": {},
   "source": [
    "### Answer \n",
    "\n",
    "#### OTC market structure and roles\n",
    "\n",
    "1. Clients: humans who are not dealers who want to trade FX. For example: Corporates, hedge funds, pension and sovereign wealth funds (“real money”), smaller banks without global FX desks, retail channels.\n",
    "\n",
    "2. Salespeople: humans who talk to human clients on the phone (or over chat channels like Bloomberg) and take client requests for trades\n",
    "\n",
    "3. Traders: humans who talk to human salespeople in response to a client trade request. They make markets to clients, based on where they can hedge, what their risk position is, and who the client is. And they manage market risk that comes from taking the other side of client trades.\n",
    "\n",
    "#### Voice trading steps:\n",
    "\n",
    "1. Clients talk to salesmen about what trade they want. \n",
    "\n",
    "2. Salesmen tell traders about clients demand.\n",
    "\n",
    "3. Traders looks at the inter-dealer market; looks at her current risk position; and considers historical trading behavior of clients to make their price. Then they tell salesmen about their bid/ask.\n",
    "\n",
    "4. Salesmen tell clients about traders' bid/ask.\n",
    "\n",
    "5. Clients compare bid/ask from different salesmen/traders, then make their decision.\n",
    "\n",
    "#### Electronic trading steps: \n",
    "\n",
    "1. Clients open a web or app and type in his trade. (Currency and notation)\n",
    "\n",
    "2. The web or app send traders this request. Traders consider his position, risk and other factors, then type in his bid/ask.\n",
    "\n",
    "3. Clients can see different bid/ask from different traders, then click the one they prefer.\n",
    "\n",
    "4. Traders receive request and execute."
   ]
  },
  {
   "cell_type": "markdown",
   "metadata": {},
   "source": [
    "## Question 4 (4 marks)\n",
    "\n",
    "Today is October 27th, 2015. Tomorrow (October 28th) is a good business day for all three currencies. October 29th is a JPY currency settlement holiday. October 30th (a Friday) is a USD settlement holiday and November 2nd (a Monday) is a EUR settlement holiday. November 3rd is a good business day for all three currencies.\n",
    "\n",
    "The EURUSD mid-market spot rate is 1.1300 (the price of a EUR in USD) and the USDJPY mid-market spot rate is 120.00 (the price of a USD in JPY). The USD interest rate is 0.25%, the EUR interest rate is 0.50%, and the JPY interest rate is 0.10%.\n",
    "\n",
    "What are the spot dates for EURUSD, for USDJPY, and for EURJPY? What is the EURJPY mid-market spot rate implied from the triangle arbitrage?"
   ]
  },
  {
   "cell_type": "markdown",
   "metadata": {},
   "source": [
    "### Answer\n",
    "\n",
    "The principal is move two valid days, holiday does not count as valid day.\n",
    "\n",
    "1. EURUSD: Oct. 29th.\n",
    "\n",
    "2. USDJPY: Nov. 2nd.\n",
    "\n",
    "3. EURJPY: Nov. 3rd.\n",
    "\n",
    "The triangle is EURJPY×JPYUSD×USDEUR=1 at Oct. 27th.\n",
    "\n",
    "$$\n",
    "\\frac{EURJPY}{EURUSD×USDJPY}=1\n",
    "$$\n",
    "\n",
    "at Oct .27th\n",
    "\n",
    "and we have following relationships,\n",
    "$$\n",
    "EURJPY^{\\text{Nov 3}} =EURJPY^{\\text{Oct 27}}\\times e^{(r_{\\text{JPY}}-r_{\\text{EUR}})\\frac{7}{365}}\\\\\n",
    "USDJPY^{\\text{Nov 2}} =USDJPY^{\\text{Oct 27}}\\times e^{(r_{\\text{JPY}}-r_{\\text{USD}})\\frac{6}{365}}\\\\\n",
    "EURUSD^{\\text{Oct 29}} =EURUSD^{\\text{Oct 27}}\\times e^{(r_{\\text{USD}}-r_{\\text{EUR}})\\frac{2}{365}}\\\\\n",
    "$$\n",
    "\n",
    "Solving these four functions, we have \n",
    "$$\n",
    "EURJPY = 135.595\n",
    "$$\n",
    "\n",
    "at Nov. 3rd, which is spot date. So it is also mid-market spot rate."
   ]
  },
  {
   "cell_type": "markdown",
   "metadata": {},
   "source": [
    "## Question 5 (2 marks)\n",
    "\n",
    "Same market as Question 4. Assume zero bid/ask spread in interest rates.\n",
    "\n",
    "Take the bid/ask for EURUSD as 1.1299/1.1301, and the bid/ask for USDJPY as 119.99/120.01. What is the bid/ask for EURJPY implied from the triangle arbitrage?\n"
   ]
  },
  {
   "cell_type": "markdown",
   "metadata": {},
   "source": [
    "### Answer\n",
    "\n",
    "The formula from last question stay same. If we want to calculate bid price, we replace EURUSD and USDJPY with bid price. If we want to calculate ask price, we replace EURUSD and USDJPY with ask price. After simple calculation, we have \n",
    "\n",
    "$$\n",
    "EURJPY_{\\text{ask}}=135.618\n",
    "$$\n",
    "\n",
    "$$\n",
    "EURJPY_{\\text{bid}}=135.572\n",
    "$$"
   ]
  },
  {
   "cell_type": "markdown",
   "metadata": {},
   "source": [
    "## Question 6 (10 marks)\n",
    "\n",
    "In Python, implement a variation of the “toy simulation algorithm” we discussed in class. Model parameters to assume:\n",
    "\n",
    "    1. Spot starts at 1\n",
    "    2. Volatility is 10%/year\n",
    "    3. Poisson frequency $\\lambda$ for client trade arrival is 1 trade/second\n",
    "    4. Each client trade that happens delivers a position of either +1 unit of the asset or -1 unit of the asset, with even odds\n",
    "    5. Bid/ask spread for client trades is 1bp\n",
    "        ◦ Receive PNL equal to 1bp*spot*50% on each client trade (since client trades always have unit notional in this simulation)\n",
    "    6. Bid/ask spread for inter-dealer hedge trades is 2bp\n",
    "       ◦ Pay PNL equal to 2bp*spot*hedge notional*50% on each hedge trade\n",
    "    7. A delta limit of 3 units before the algorithm executes a hedge in the inter-dealer market. \n",
    "\n",
    "Use a time step $\\Delta t$ equal to 0.1/$\\lambda$ and assume that only a single client trade can happen in each time step (with probability equal to $1-e^{-\\lambda\\Delta t}$). Use 500 time steps and a number of simulation runs to give sufficient convergence.\n",
    "\n",
    "When converted between seconds and years, assume 260 (trading) days per year.\n",
    "\n",
    "The variation in the algorithm: when the algorithm decides to hedge, it can do a partial hedge, where it trades such that the net risk is equal to the delta limit (either positive or negative depending on whether the original position was above the delta limit or below -1*delta limit); or it can do a full hedge, like in the algorithm we discussed in class, where the net risk is reduced to zero.\n",
    "\n",
    "Use the Sharpe ratio of the simulation PNL distribution to determine which of those two hedging approaches is better.\n",
    "\n",
    "Your solution should deliver the Python script that implements the simulation, and you should explain your answer by giving numerical results from the simulation as well as some qualitative intuition behind the result. Include data that shows that you have used sufficient Monte Carlo simulation runs to show that your final result is not affected by statistical noise.\n",
    "\n",
    "Marks will be given for both the numerical results generated from the simulation as well as the quality of your Python code. Remember to include lots of explanatory comments in your code and use variable names that are meaningful. Use external packages like numpy/scipy where applicable rather than rolling your own low-level numerical functions like random number generators. For top marks, use only vectorized operations across the Monte Carlo paths to speed up execution."
   ]
  },
  {
   "cell_type": "markdown",
   "metadata": {},
   "source": [
    "### Answer"
   ]
  },
  {
   "cell_type": "code",
   "execution_count": 5,
   "metadata": {
    "ExecuteTime": {
     "end_time": "2019-09-05T11:22:01.156233Z",
     "start_time": "2019-09-05T11:22:01.152496Z"
    }
   },
   "outputs": [],
   "source": [
    "import numpy as np\n",
    "import scipy\n",
    "import math"
   ]
  },
  {
   "cell_type": "code",
   "execution_count": 24,
   "metadata": {
    "ExecuteTime": {
     "end_time": "2019-09-05T12:24:34.085136Z",
     "start_time": "2019-09-05T12:24:34.045728Z"
    }
   },
   "outputs": [],
   "source": [
    "class ElectronicHedgingEngine:\n",
    "    def __init__(self, spot, vol, lamb, clientS, dealerS):\n",
    "        '''\n",
    "        spot: initial spot price\n",
    "        vol: volatility per year\n",
    "        lamb: client trade arrival follows Possion process, lambda of this Possion process\n",
    "        clientS: Bid/ask spread for client trades\n",
    "        dealerS: Bid/ask spread for inter-dealer hedge trades\n",
    "        '''\n",
    "        self.spot = spot\n",
    "        self.vol = vol\n",
    "        self.lamb = lamb\n",
    "        self.clientSpread = clientS\n",
    "        self.dealerSpread = dealerS\n",
    "\n",
    "    def sim(self, dt, steps, N, deltaLimit, partialHedge = False):\n",
    "        '''\n",
    "        dt: time step\n",
    "        steps: number of time steps\n",
    "        N: number of simulation\n",
    "        deltaLimit: delta limit\n",
    "        partialHedge: if false, hedge to zero delta, if true, hedge to delta limit.\n",
    "        '''\n",
    "        \n",
    "        # initialize all simulations' variable as numpy array\n",
    "        spots = np.repeat(self.spot, N)\n",
    "        deltas = np.zeros(N)\n",
    "        pnls = np.zeros(N)\n",
    "        \n",
    "        prob = 1 - np.exp(-self.lamb*dt)\n",
    "        \n",
    "        for i in range(steps):         \n",
    "            # accept-rejection, if client send trade\n",
    "            AR = scipy.random.uniform(0, 1, N)\n",
    "            tradeHappen = scipy.less(AR, prob).astype(int)\n",
    "            \n",
    "            # trade direction, +1 buy, -1 sell\n",
    "            tradeDirection = scipy.random.binomial(1, 0.5, N) * 2 - 1\n",
    "          \n",
    "            # change delta and pnl  \n",
    "            deltas += tradeHappen*tradeDirection\n",
    "            pnls += tradeHappen * self.clientSpread * spots / 2.0\n",
    "                   \n",
    "            # if delta greater than upper bound, hedge\n",
    "            upperExceed = scipy.greater(deltas, deltaLimit).astype(int)           \n",
    "            if partialHedge is False:\n",
    "                pnls -= deltas * upperExceed * self.dealerSpread * spots / 2.0\n",
    "                deltas *= scipy.logical_not(upperExceed)\n",
    "            else:\n",
    "                pnls -= (deltas - deltaLimit) * upperExceed * self.dealerSpread * spots / 2.0\n",
    "                deltas = deltas * scipy.logical_not(upperExceed) + deltaLimit * upperExceed\n",
    "\n",
    "            # if delta smaller than lower bound, hedge\n",
    "            lowerExceed = scipy.less(deltas, -deltaLimit).astype(int)           \n",
    "            if partialHedge is False:\n",
    "                pnls += deltas * lowerExceed * self.dealerSpread * spots / 2.0\n",
    "                deltas *= scipy.logical_not(lowerExceed)\n",
    "            else:\n",
    "                pnls += (deltas + deltaLimit) * lowerExceed * self.dealerSpread * spots / 2.0\n",
    "                deltas = deltas * scipy.logical_not(lowerExceed) - deltaLimit * lowerExceed\n",
    "        \n",
    "            \n",
    "            # update spot\n",
    "            dW = scipy.random.normal(0, np.sqrt(dt), N)\n",
    "            dS = self.vol * spots * dW\n",
    "            spots += dS\n",
    "            \n",
    "            # update pnl\n",
    "            pnls += deltas * dS\n",
    "        \n",
    "        # return Sharpe Ratio\n",
    "        return  pnls.mean()/pnls.std()"
   ]
  },
  {
   "cell_type": "code",
   "execution_count": 25,
   "metadata": {
    "ExecuteTime": {
     "end_time": "2019-09-05T12:24:34.675401Z",
     "start_time": "2019-09-05T12:24:34.664571Z"
    }
   },
   "outputs": [],
   "source": [
    "# parameters\n",
    "spot = 1.0\n",
    "vol = 0.1/math.sqrt(260.0) # 260 days per year\n",
    "lamb = 1.0*60*60*24 # seconds per day\n",
    "clientSpread = 1e-4\n",
    "dealerSpread = 2e-4\n",
    "dt = 0.1/lam\n",
    "steps = 500\n",
    "\n",
    "# Create simulator\n",
    "engine = ElectronicHedgingEngine(spot,vol,lamb, clientSpread,dealerSpread)"
   ]
  },
  {
   "cell_type": "code",
   "execution_count": 27,
   "metadata": {
    "ExecuteTime": {
     "end_time": "2019-09-05T12:26:54.078767Z",
     "start_time": "2019-09-05T12:25:07.994040Z"
    }
   },
   "outputs": [
    {
     "name": "stdout",
     "output_type": "stream",
     "text": [
      "Fully hedge strategy:\n",
      "run  100.0 times: Sharpe Ratio is  1.8864797354854153\n",
      "run  1000.0 times: Sharpe Ratio is  2.0581818346642886\n",
      "run  10000.0 times: Sharpe Ratio is  2.097749039029468\n",
      "run  100000.0 times: Sharpe Ratio is  2.070983848649503\n",
      "run  1000000.0 times: Sharpe Ratio is  2.0629030234765793\n"
     ]
    }
   ],
   "source": [
    "print(\"Fully hedge strategy:\")\n",
    "for N in [1e2,1e3,1e4,1e5,1e6]:\n",
    "    res = engine.sim(dt,steps,int(N),3.0,False)\n",
    "    print(\"run \", N, \"times: Sharpe Ratio is \", res)"
   ]
  },
  {
   "cell_type": "code",
   "execution_count": 28,
   "metadata": {
    "ExecuteTime": {
     "end_time": "2019-09-05T12:28:48.501417Z",
     "start_time": "2019-09-05T12:26:54.104141Z"
    }
   },
   "outputs": [
    {
     "name": "stdout",
     "output_type": "stream",
     "text": [
      "Partial hedge strategy:\n",
      "run  100.0 times: Sharpe Ratio is  2.971481719687007\n",
      "run  1000.0 times: Sharpe Ratio is  3.3916633352494143\n",
      "run  10000.0 times: Sharpe Ratio is  3.352140100811335\n",
      "run  100000.0 times: Sharpe Ratio is  3.347430240262172\n",
      "run  1000000.0 times: Sharpe Ratio is  3.3347363476561105\n"
     ]
    }
   ],
   "source": [
    "print(\"Partial hedge strategy:\")\n",
    "for N in [1e2,1e3,1e4,1e5,1e6]:\n",
    "    res = engine.sim(dt,steps,int(N),3.0,True)\n",
    "    print(\"run \", N, \"times: Sharpe Ratio is \", res)"
   ]
  },
  {
   "cell_type": "markdown",
   "metadata": {},
   "source": [
    "#### Interpretation\n",
    "\n",
    "As we can see from above results, both strategies converge when number of simulation is a million. (variation smaller than 1%)\n",
    "\n",
    "We can see partial hedge strategy has a higher Sharpe ratio. The intuition is, partial hedge strategy takes more risk, so it should be award by market. Thus partial hedge strategy has higher Sharpe ratio."
   ]
  },
  {
   "cell_type": "code",
   "execution_count": null,
   "metadata": {},
   "outputs": [],
   "source": []
  },
  {
   "cell_type": "code",
   "execution_count": null,
   "metadata": {},
   "outputs": [],
   "source": []
  },
  {
   "cell_type": "code",
   "execution_count": null,
   "metadata": {},
   "outputs": [],
   "source": [
    "\"\"\"\n",
    "Copyright: Copyright (C) 2015  Washington Square Technologies - All Rights Reserved\n",
    "Description: Functions for running a simulation of electronic trading. Model is:\n",
    "\n",
    "                * Spot follows a geometric Brownian motion with zero drift\n",
    "                * Client trades happen according to a Poisson process\n",
    "                * Client trades pay a fee of half the client bid/ask spread, defined\n",
    "                  as a fraction of current spot\n",
    "                * Client trades are always of unit notional, with even odds of delivering\n",
    "                  a long or short position\n",
    "                * Hedging happens when the net position reaches a delta threshold. Two\n",
    "                  types of hedging supported: one where it rebalances the position to\n",
    "                  zero whenever it trades; and one where it rebalances the position to\n",
    "                  the delta threshold.\n",
    "\"\"\"\n",
    "\n",
    "from   math import exp, sqrt\n",
    "import scipy\n",
    "\n",
    "\n",
    "def run_simulation_fast(vol, lam, sprd_client, sprd_dealer, delta_lim, hedge_style, dt, nsteps, nruns, seed):\n",
    "    '''Runs a Monte Carlo simulation and returns statics on PNL, client trades, and hedge trades.\n",
    "    \"_fast\" because it uses vectorized operations.\n",
    "    \n",
    "    vol:         lognormal volatility of the spot process\n",
    "    lam:         Poisson process frequency\n",
    "    sprd_client: fractional bid/ask spread for client trades. eg 1e-4 means 1bp.\n",
    "    sprd_dealer: fractional bid/ask spread for inter-dealer hedge trades. eg 1e-4 means 1bp.\n",
    "    delta_lim:   the delta limit at or beyond which the machine will hedge in the inter-dealer market\n",
    "    hedge_style: 'Zero' or 'Edge', defining the hedging style. 'Zero' means hedge to zero position,\n",
    "                 'Edge' means hedge to the nearer delta limit.\n",
    "    dt:          length of a time step\n",
    "    nsteps:      number of time steps for each run of the simulation\n",
    "    nruns:       number of Monte Carlo runs\n",
    "    seed:        RNG seed\n",
    "    '''\n",
    "    \n",
    "    scipy.random.seed(seed)\n",
    "    \n",
    "    trade_prob = 1 - exp(-lam*dt)\n",
    "    sqrtdt     = sqrt(dt)\n",
    "    \n",
    "    spots  = scipy.zeros(nruns) + 1 # initial spot == 1\n",
    "    posns  = scipy.zeros(nruns)\n",
    "    trades = scipy.zeros(nruns)\n",
    "    hedges = scipy.zeros(nruns)\n",
    "    pnls   = scipy.zeros(nruns)\n",
    "    \n",
    "    for step in range(nsteps):\n",
    "        dzs = scipy.random.normal(0, sqrtdt, nruns)\n",
    "        qs  = scipy.random.uniform(0, 1, nruns)\n",
    "        ps  = scipy.random.binomial(1, 0.5, nruns) * 2 - 1 # +1 or -1 - trade quantities if a trade happens\n",
    "        \n",
    "        # check if there are client trades for each path\n",
    "        \n",
    "        indics  = scipy.less(qs, trade_prob)\n",
    "        posns  += indics*ps\n",
    "        trades += scipy.ones(nruns) * indics\n",
    "        pnls   += scipy.ones(nruns) * indics * sprd_client * spots / 2.\n",
    "        \n",
    "        # check if there are hedges to do for each path\n",
    "        \n",
    "        if hedge_style == 'Zero':\n",
    "            indics  = scipy.logical_or(scipy.less_equal(posns, -delta_lim), scipy.greater_equal(posns, delta_lim))\n",
    "            pnls   -= scipy.absolute(posns) * indics * sprd_dealer * spots / 2.\n",
    "            posns  -= posns * indics\n",
    "            hedges += scipy.ones(nruns) * indics\n",
    "        elif hedge_style == 'Edge':\n",
    "            # first deal with cases where pos>delta_lim\n",
    "            \n",
    "            indics  = scipy.greater(posns, delta_lim)\n",
    "            pnls   -= (posns - delta_lim) * indics * sprd_dealer * spots / 2.\n",
    "            posns   = posns * scipy.logical_not(indics) + scipy.ones(nruns) * indics * delta_lim\n",
    "            hedges += scipy.ones(nruns) * indics\n",
    "            \n",
    "            # then the cases where pos<-delta_lim\n",
    "            \n",
    "            indics  = scipy.less(posns, -delta_lim)\n",
    "            pnls   -= (-delta_lim - posns) * indics * sprd_dealer * spots / 2.\n",
    "            posns   = posns * scipy.logical_not(indics) + scipy.ones(nruns) * indics * (-delta_lim)\n",
    "            hedges += scipy.ones(nruns) * indics\n",
    "        else:\n",
    "            raise ValueError('hedge_style must be \"Edge\" or \"Zero\"')\n",
    "        \n",
    "        # advance the spots and calculate period PNL\n",
    "        \n",
    "        dspots = vol * spots * dzs\n",
    "        pnls  += posns * dspots\n",
    "        spots += dspots\n",
    "        \n",
    "    return {'PNL': (pnls.mean(), pnls.std()), 'Trades': (trades.mean(), trades.std()), 'Hedges': (hedges.mean(), hedges.std())}\n",
    "\n",
    "\n",
    "def run_simulation_slow(vol, lam, sprd_client, sprd_dealer, delta_lim, hedge_style, dt, nsteps, nruns, seed):\n",
    "    '''Runs a Monte Carlo simulation and returns statics on PNL, client trades, and hedge trades.\n",
    "    \"_slow\" because it does not use vectorized operations.\n",
    "    \n",
    "    vol:         lognormal volatility of the spot process\n",
    "    lam:         Poisson process frequency\n",
    "    sprd_client: fractional bid/ask spread for client trades. eg 1e-4 means 1bp.\n",
    "    sprd_dealer: fractional bid/ask spread for inter-dealer hedge trades. eg 1e-4 means 1bp.\n",
    "    delta_lim:   the delta limit at or beyond which the machine will hedge in the inter-dealer market\n",
    "    hedge_style: 'Zero' or 'Edge', defining the hedging style. 'Zero' means hedge to zero position,\n",
    "                 'Edge' means hedge to the nearer delta limit.\n",
    "    dt:          length of a time step\n",
    "    nsteps:      number of time steps for each run of the simulation\n",
    "    nruns:       number of Monte Carlo runs\n",
    "    seed:        RNG seed\n",
    "    '''\n",
    "    \n",
    "    scipy.random.seed(seed)\n",
    "\n",
    "    pnls   = []\n",
    "    trades = []\n",
    "    hedges = []\n",
    "\n",
    "    trade_prob = 1 - exp(-lam * dt)\n",
    "    sqrtdt     = sqrt(dt)\n",
    "    \n",
    "    for run in range(nruns):\n",
    "        x  = 1\n",
    "        rs = scipy.random.normal(0, sqrtdt, nsteps)\n",
    "        qs = scipy.random.uniform(0, 1, nsteps)\n",
    "        ps = scipy.random.binomial(1, 0.5, nsteps)\n",
    "\n",
    "        pos = 0\n",
    "        pnl = 0\n",
    "        \n",
    "        n_trades = 0\n",
    "        n_hedges = 0\n",
    "\n",
    "        for step in range(nsteps):\n",
    "            # check if there's a client trade in the window. If so, assume it happens at the start of the window\n",
    "\n",
    "            if qs[step] < trade_prob:\n",
    "                if ps[step] == 0:\n",
    "                    pos -= 1\n",
    "                else:\n",
    "                    pos += 1\n",
    "                pnl += sprd_client * x / 2. # get paid the bid/ask spread on the unit notional of the trade\n",
    "                \n",
    "                n_trades += 1\n",
    "\n",
    "            # check whether we need to hedge; if so, hedge back to zero position\n",
    "            \n",
    "            if hedge_style == 'Zero':\n",
    "                if abs(pos) >= delta_lim:\n",
    "                    pnl -= abs(pos) * sprd_dealer * x /2. # pay the bid/ask spread\n",
    "                    pos  = 0\n",
    "                    n_hedges += 1\n",
    "            elif hedge_style == 'Edge':\n",
    "                if abs(pos) > delta_lim:\n",
    "                    if pos > delta_lim:\n",
    "                        pnl -= (pos - delta_lim) * sprd_dealer * x / 2.\n",
    "                        pos  = delta_lim\n",
    "                    else: # pos<-delta_lim\n",
    "                        pnl -= (-delta_lim - pos) * sprd_dealer * x/ 2.\n",
    "                        pos  = -delta_lim\n",
    "\n",
    "                    n_hedges += 1\n",
    "            else:\n",
    "                raise ValueError('hedge_style should be Zero or Edge')\n",
    "            \n",
    "            # step forward the spot\n",
    "\n",
    "            dS = vol * x * rs[step]\n",
    "\n",
    "            pnl += pos * dS\n",
    "            x += dS\n",
    "\n",
    "        pnls.append(pnl)\n",
    "        trades.append(n_trades)\n",
    "        hedges.append(n_hedges)\n",
    "    \n",
    "    pnls   = scipy.array(pnls)\n",
    "    trades = scipy.array(trades)\n",
    "    hedges = scipy.array(hedges)\n",
    "    \n",
    "    return {'PNL': (pnls.mean(), pnls.std()), 'Trades': (trades.mean(), trades.std()), 'Hedges': (hedges.mean(), hedges.std())}\n",
    "\n",
    "\n",
    "def test_simulation():\n",
    "    '''Little test function that demonstrates how to run this'''\n",
    "    \n",
    "    vol   = 0.1*sqrt(1/260.) # 10% annualized vol, converted to per-day vol using 260 days/year\n",
    "    lam   = 1*60*60*24       # Poisson frequency for arrival of client trades: 1 per second, converted into per-day frequency to be consistent with vol\n",
    "\n",
    "    sprd_client = 1e-4       # fractional full bid/ask spread for client trades\n",
    "    sprd_dealer = 2e-4       # fractional full bid/ask spread for inter-dealer hedge trades\n",
    "\n",
    "    hedge_style = 'Zero'     # 'Zero' means \"hedge to zero position\", or 'Edge' means \"hedge to delta limit\"\n",
    "\n",
    "    delta_lim = 3.           # algorithm hedges when net delta reaches this limit\n",
    "\n",
    "    dt       = 0.1/lam       # time step in simulation. Only zero or one client trades can arrive in a given interval.\n",
    "    nsteps   = 500           # number of time steps in the simulation\n",
    "    nruns    = 10000       # number of Monte Carlo runs\n",
    "    seed     = 1             # Monte Carlo seed\n",
    "    \n",
    "    res = run_simulation_fast(vol,lam,sprd_client,sprd_dealer,delta_lim,hedge_style,dt,nsteps,nruns,seed)\n",
    "    print('PNL Sharpe ratio             =',res['PNL'][0]/res['PNL'][1])\n",
    "    print('PNL mean                     =',res['PNL'][0])\n",
    "    print('PNL std dev                  =',res['PNL'][1])\n",
    "    print('Mean number of client trades =',res['Trades'][0])\n",
    "    print('SD number of client trades   =',res['Trades'][1])\n",
    "    print('Mean number of hedge trades  =',res['Hedges'][0])\n",
    "    print('SD number of hedge trades    =',res['Hedges'][1])\n",
    "\n",
    "    \n",
    "if __name__==\"__main__\":\n",
    "    import time\n",
    "    t1 = time.time()\n",
    "    test_simulation()\n",
    "    t2 = time.time()\n",
    "    print('Elapsed time =',t2-t1,'seconds')"
   ]
  }
 ],
 "metadata": {
  "kernelspec": {
   "display_name": "Python 3",
   "language": "python",
   "name": "python3"
  },
  "language_info": {
   "codemirror_mode": {
    "name": "ipython",
    "version": 3
   },
   "file_extension": ".py",
   "mimetype": "text/x-python",
   "name": "python",
   "nbconvert_exporter": "python",
   "pygments_lexer": "ipython3",
   "version": "3.7.4"
  },
  "latex_envs": {
   "LaTeX_envs_menu_present": true,
   "autoclose": true,
   "autocomplete": true,
   "bibliofile": "biblio.bib",
   "cite_by": "apalike",
   "current_citInitial": 1,
   "eqLabelWithNumbers": false,
   "eqNumInitial": 1,
   "hotkeys": {
    "equation": "Ctrl-E",
    "itemize": "Ctrl-I"
   },
   "labels_anchors": false,
   "latex_user_defs": false,
   "report_style_numbering": false,
   "user_envs_cfg": false
  },
  "toc": {
   "base_numbering": 1,
   "nav_menu": {},
   "number_sections": true,
   "sideBar": true,
   "skip_h1_title": false,
   "title_cell": "Table of Contents",
   "title_sidebar": "Contents",
   "toc_cell": false,
   "toc_position": {},
   "toc_section_display": true,
   "toc_window_display": false
  },
  "varInspector": {
   "cols": {
    "lenName": 16,
    "lenType": 16,
    "lenVar": 40
   },
   "kernels_config": {
    "python": {
     "delete_cmd_postfix": "",
     "delete_cmd_prefix": "del ",
     "library": "var_list.py",
     "varRefreshCmd": "print(var_dic_list())"
    },
    "r": {
     "delete_cmd_postfix": ") ",
     "delete_cmd_prefix": "rm(",
     "library": "var_list.r",
     "varRefreshCmd": "cat(var_dic_list()) "
    }
   },
   "types_to_exclude": [
    "module",
    "function",
    "builtin_function_or_method",
    "instance",
    "_Feature"
   ],
   "window_display": false
  }
 },
 "nbformat": 4,
 "nbformat_minor": 2
}
