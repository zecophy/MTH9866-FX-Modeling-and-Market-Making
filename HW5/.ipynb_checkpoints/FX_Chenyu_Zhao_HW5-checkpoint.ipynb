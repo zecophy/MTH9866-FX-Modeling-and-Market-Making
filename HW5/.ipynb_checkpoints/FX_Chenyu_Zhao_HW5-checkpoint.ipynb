{
 "cells": [
  {
   "cell_type": "markdown",
   "metadata": {},
   "source": [
    "# Lecture 5 (Exotics Markets) Assignment\n",
    "\n",
    "### Chenyu Zhao"
   ]
  },
  {
   "cell_type": "markdown",
   "metadata": {},
   "source": [
    "## Question 1 (4 marks)\n",
    "\n",
    "In the stochastic spot/vol correlation model there are three correlations: the spot/vol correlation $\\rho$ (which is stochastic); the spot/correlation correlation $\\rho_{cs}$; and the vol/correlation correlation $\\rho_{cv}$. \n",
    "\n",
    "In the formulation discussed in class, the latter two correlations are given as constant parameters. That 3x3 correlation matrix is not guaranteed to be positive definite, which is a problem for the model.\n",
    "\n",
    "Show that, if the vol/correlation correlation is chosen as $\\rho_{cv}=\\rho \\rho_{cs}$, the 3x3 correlation matrix is always positive definite."
   ]
  },
  {
   "cell_type": "markdown",
   "metadata": {},
   "source": [
    "### Answer\n",
    "\n",
    "The correlation matrix is\n",
    "$$\n",
    "\\Pi = \\begin{pmatrix}\n",
    "1 & \\rho & \\rho_{cs}\\\\\n",
    "\\rho & 1 & \\rho_{cv}\\\\\n",
    "\\rho_{cs} & \\rho_{cv} &1\n",
    "\\end{pmatrix}.\n",
    "$$\n",
    "\n",
    "To guarantee that $\\Pi$ is spd, all its leading principal minors should be non-negative. Which is\n",
    "\n",
    "$$\n",
    "1\\ge0\n",
    "$$\n",
    "\n",
    "$$\n",
    "1-\\rho^2 \\ge0\n",
    "$$\n",
    "\n",
    "$$\n",
    "1+ 2\\rho\\rho _ {cs}\\rho _ {cv} - \\rho^2 - \\rho _ {cs}^2- \\rho _ {cv}^2  \\ge 0\n",
    "$$\n",
    "\n",
    "The first two equations hold automatically. The third one, when $\\rho_{cv}=\\rho \\rho_{cs}$\n",
    "\n",
    "$$\n",
    "1+ 2\\rho\\rho _ {cs}\\rho _ {cv} - \\rho^2 - \\rho _ {cs}^2- \\rho _ {cv}^2 = 1+ \\rho^2\\rho _ {cs}^2 - \\rho^2 - \\rho _ {cs}^2 = (1-\\rho^2)(1-\\rho _ {cs}^2)\\ge 0\n",
    "$$\n",
    "\n",
    "holds, thus correlation matrix is spd."
   ]
  },
  {
   "cell_type": "markdown",
   "metadata": {},
   "source": [
    "## Question 2 (4 marks)\n",
    "\n",
    "For the Heston stochastic volatility model we showed that the characteristic function f needed to satisfy the following partial differential equation in two variables, x (the log of spot) and v (the instantaneous volatility squared):\n",
    "\n",
    "$$\n",
    "\\frac{\\partial f}{\\partial t} + \\left(\\mu -\\frac{v}{2}\\right)\\frac{\\partial f}{\\partial x} + \\frac{v}{2}\\frac{\\partial^2 f}{\\partial x^2}  + \\beta (\\bar{v} -v)\\frac{\\partial f}{\\partial v} + \\frac{\\alpha^2v}{2}\\frac{\\partial^2 f}{\\partial v^2} + \\rho\\alpha v \\frac{\\partial^2 f}{\\partial x\\partial v} = 0\n",
    "$$\n",
    "\n",
    "and the initial condition for f(T=t) is\n",
    "$$\n",
    "f = e^{i\\theta x}.\n",
    "$$\n",
    "\n",
    "\n",
    "We guessed a form for f\n",
    "$$\n",
    "f = e^{i\\theta x + A(t) + B(t)v}.\n",
    "$$\n",
    "\n",
    "Plug that form into the PDE above and show that it reduces the PDE to the two simultaneous ODEs\n",
    "\\begin{eqnarray}\n",
    "\\dot{A} &=& i\\mu \\theta + \\beta \\bar{v}B\\\\\n",
    "\\dot{B} &=& -\\frac{1}{2}\\left( i\\theta + \\theta^2 \\right) -\\beta B +\\frac{1}{2}\\alpha^2 B^2 + i\\rho\\alpha\\theta B,\n",
    "\\end{eqnarray}\n",
    "where $\\dot{A} = \\frac{dA}{d\\tau}$ and $\\dot{B} = \\frac{dB}{d\\tau}$, the new time variable $\\tau = T-t$, and initial conditions are $A(0)=B(0)=0$."
   ]
  },
  {
   "cell_type": "markdown",
   "metadata": {},
   "source": [
    "### Answer\n",
    "\n",
    "$$\n",
    "\\frac{\\partial f}{\\partial x}= i\\theta f\n",
    "$$\n",
    "\n",
    "$$\n",
    "\\frac{\\partial^2 f}{\\partial x^2}= -\\theta^2 f\n",
    "$$\n",
    "\n",
    "$$\n",
    "\\frac{\\partial f}{\\partial v}= B f\n",
    "$$\n",
    "\n",
    "$$\n",
    "\\frac{\\partial^2 f}{\\partial v^2}= B^2 f\n",
    "$$\n",
    "\n",
    "$$\n",
    "\\frac{\\partial^2 f}{\\partial v\\partial x}= i\\theta B f\n",
    "$$\n",
    "\n",
    "$$\n",
    "\\frac{\\partial f}{\\partial t}= - \\frac{\\partial f}{\\partial \\tau} = - f (\\dot{A} + \\dot{B}v)\n",
    "$$\n",
    "\n",
    "plus these relationships to the original PDE, we get\n",
    "\n",
    "$$\n",
    "\\left( -\\dot{A} + i\\mu\\theta + \\beta \\bar{v} B \\right) + \\left( -\\dot{B}- \\frac{i\\theta}{2} -\\frac{\\theta^2}{2} - \\beta B\n",
    "+ \\frac{\\alpha^2 B^2}{2} + i\\rho\\alpha  \\theta B\\right)v = 0,\n",
    "$$\n",
    "\n",
    "Because this equation holds for any v, so the two terms must be 0, thus\n",
    "\n",
    "\\begin{eqnarray}\n",
    "\\dot{A} &=& i\\mu \\theta + \\beta \\bar{v}B\\\\\n",
    "\\dot{B} &=& -\\frac{1}{2}\\left( i\\theta + \\theta^2 \\right) -\\beta B +\\frac{1}{2}\\alpha^2 B^2 + i\\rho\\alpha\\theta B,\n",
    "\\end{eqnarray}\n",
    "\n",
    "Because the initial condition is \n",
    "\n",
    "$$\n",
    "f(t=T)=e^{i\\theta x}\n",
    "$$\n",
    "\n",
    "this implies that when $\\tau=T-t=0$, $A(0) = 0$ and  $B(0) = 0$"
   ]
  },
  {
   "cell_type": "markdown",
   "metadata": {},
   "source": [
    "## Question 3 (4 marks)\n",
    "\n",
    "Consider a Merton jump diffusion model:\n",
    "\n",
    "$$\n",
    "dx(t) = \\mu dt + \\sigma dz + Jdq,\n",
    "$$\n",
    "where $x(t)$ is the log of spot, $\\mu$ is the log-drift (a constant), $\\sigma$ is the diffusive volatility of spot (a constant), and $q$ is a Poisson process with frequency $\\lambda$. That is, in the infinitesimal time period $dt$, $dq$ is equal to 1 with probability $\\lambda dt$ and equal to $0$ otherwise. $J$ is the jump that happens if the Poisson process fires; it is normally distributed with mean $J_a$ and variance $J_v$. Jumps are independent of each other, independent of the Poisson process, and independent of the Brownian motion $z$.\n",
    "\n",
    "We’ll look at finding the characteristic function of $x(T)$ for some future time $T$, because with that we can calculate vanilla option prices with a single integration.\n",
    "\n",
    "We can apply Ito’s Lemma to $f$, including the possibility of jumps, and get\n",
    "$$\n",
    "df = \\frac{\\partial f}{\\partial t} dt + \\frac{\\partial f}{\\partial x}dx + \\frac{1}{2}\\frac{\\partial^2 f}{\\partial x^2} dx^2 + \\left[ f(x+J) - f(x) \\right]dq.\n",
    "$$\n",
    "The last term is the one that comes from the jump $J$, which of course is random (drawn from its normal distribution).\n",
    "\n",
    "As with the Heston model, let's try a form\n",
    "$$\n",
    "f = \\mathbb{E}\\left[ e^{i\\theta x_T} \\right] = e^{i\\theta x + A(t)}.\n",
    "$$\n",
    "The question: substitute that form into the expression for $df$ and solve for $A(\\tau =T-t)$. You will need to use the fact that $\\mathbb{E}[df] = 0$ because the characteristic function is a martingale: but don't forget that the jump term has a non-zero contribution to that expectation.\n",
    "\n",
    "You will need to use one of the most important identities in finance: for a normally distributed variable $u$, with mean $u_a$ and variance $u_v$,\n",
    "$$\n",
    "\\mathbb{E}[e^u] = e^{u_a + \\frac{u_v}{2}}.\n",
    "$$\n",
    "Your final answer should be\n",
    "$$\n",
    "A(\\tau) = i\\theta \\mu \\tau -\\frac{\\theta^2\\sigma^2\\tau}{2} + \\lambda \\tau \\left( e^{i\\theta J_a -\\frac{1}{2}\\theta^2 J_v} -1\\right).\n",
    "$$"
   ]
  },
  {
   "cell_type": "markdown",
   "metadata": {},
   "source": [
    "### Answer\n",
    "\n",
    "$$\n",
    "\\frac{\\partial f}{\\partial t} = -\\dot A f\n",
    "$$\n",
    "\n",
    "$$\n",
    "\\frac{\\partial f}{\\partial x} = i\\theta f\n",
    "$$\n",
    "\n",
    "$$\n",
    "\\frac{\\partial^2 f}{\\partial x^2} = -\\theta^2 f\n",
    "$$\n",
    "\n",
    "substitute these relationships into the original PDE. we get\n",
    "\n",
    "$$\n",
    "df = \\left( -f\\dot{A} + if\\theta\\mu - \\frac{1}{2}f\\theta^2\\sigma^2 \\right)dt +   \\left[  f(x+J) - f(x) \\right]dq + if\\theta \\sigma dz\n",
    "$$\n",
    "\n",
    "take expectation on both sides,\n",
    "\n",
    "$$\n",
    "0=(-\\dot Af+i\\theta \\mu f-\\frac12 \\theta^2\\sigma^2 f +\\lambda \\mathbb{E}\\left[e^{i\\theta(x+J)+A(t)}-e^{i\\theta x+A(t)} \\right])dt\n",
    "$$\n",
    "\n",
    "The $dt$ term should be zero, because we know that $\\mathbb{E}\\left[e^{i\\theta J}\\right]=e^{i\\theta J_\\alpha-\\frac12\\theta^2 J_v}$, so finally we have \n",
    "\n",
    "$$\n",
    "\\dot{A} = i\\theta\\mu - \\frac{1}{2}\\theta^2\\sigma^2  + \\lambda  \\left( e^{i\\theta J_a -\\frac{1}{2}\\theta^2 J_v}- 1 \\right),\n",
    "$$\n",
    "\n",
    "with initial condition $A(\\tau=0)=0$, integrate and we have\n",
    "\n",
    "$$\n",
    "A(\\tau) = i\\theta \\mu \\tau -\\frac{1}{2}\\theta^2\\sigma^2\\tau + \\lambda \\tau \\left( e^{i\\theta J_a -\\frac{1}{2}\\theta^2 J_v} -1\\right).\n",
    "$$"
   ]
  },
  {
   "cell_type": "markdown",
   "metadata": {},
   "source": [
    "## Question 4 (10 marks)\n",
    "\n",
    "\n",
    "Implement pricing for a jump diffusion model as in Question 3.\n",
    "\n",
    "You should have two functions: one that prices a vanilla option using the characteristic function you derived in Question 3; and one that prices using conditional expectations, as defined below.\n",
    "\n",
    "The first thing you need to do for either approach is figure out what drift $\\mu$ to use to hit the forward to the expiration time $T$. For this, we need to calculate the value of a forward in the model; that is, the expected value of spot at time $T$.\n",
    "\n",
    "For this we will use conditional expectations. That is, conditioned on exactly $N$ jumps happening by time $T$, $x$ is the sum of the normally-distributed Brownian motion plus the sum of the $N$ normally-distributed jumps; so, conditional on $N$ jumps, $x$ is normally distributed, and we can calculate the conditional expected value of spot:\n",
    "$$\n",
    "\\mathbb{E}\\left[ S(T)\\mid N\\text{ jumps} \\right] = \\mathbb{E}\\left[ e^{x(T)} \\right] = S(0)\\mathbb{E}\\left[e^{\\mu T + \\sigma z(T) + \\sum_{i=1}^N J_i}\\right].\n",
    "$$\n",
    "Complete this calculation. In calculating this expression, remember that the Brownian motion $z(T)$ and all the $N$ jumps $J_i$ are independent of each other.\n",
    "\n",
    "For the next step, what we want is the unconditional expected value of $S(T)$, which we can identify with the forward (and then use to solve for the value of $\\mu$ that makes the model match the forward). For this we can average over the number of jumps, weighting each by the probability of realizing that number of jumps. For a Poisson distribution, the probability of realizing $N$ jumps by time $T$ is given by\n",
    "$$\n",
    "\\mathbb{P}(N) = \\frac{(\\lambda T)^N}{N!}e^{-\\lambda T}.\n",
    "$$\n",
    "So to get the unconditional expected value of spot, equal to the forward, we can write\n",
    "$$\n",
    "F(T) = \\mathbb{E}[S(T)] = \\sum_{N=0}^{\\infty} \\mathbb{P}(N) \\mathbb{E}\\left[ S(T)\\mid N\\text{ jumps} \\right].\n",
    "$$\n",
    "Calculate that quantity, which will determine the correct value of $\\mu$ to use in your functions.\n",
    "\n",
    "The second function should price the vanilla option using the same conditional expectation approach we just used to calculate the forward. That is, conditioned on $N$ jumps, the distribution of spot is lognormal, and we can calculate the conditional expected value and the conditional variance of log(spot). That means, conditioned on $N$ jumps you can calculate the conditional option price using the Black-Scholes formula. Then you can average over the number of jumps, as above, and get the unconditional option price.\n",
    "\n",
    "You should implement the two functions and make sure that they give the same price for the same option. (Don’t forget to discount future cashflows!) For the numerical integration, use the scipy numerical integration package (eg scipy.integrate.quad).\n",
    "\n",
    "Then, using either function, you should generate a plot of implied volatility for the following market: spot = 1, time to expiration = 0.5y, forward points = 0.03, risk neutral discount rate $5\\%$,  $\\sigma= 7\\%$,  $J_a= -4\\%$, $J_v = (15\\%)^2$,  $\\lambda= 3$/year.\n",
    "\n",
    "Discuss the impact the four model parameters ($\\sigma$, $J_a$, $J_v$, and $\\lambda$) have on ATM vol, risk reversal, and butterfly."
   ]
  },
  {
   "cell_type": "markdown",
   "metadata": {},
   "source": [
    "### Answer\n",
    "\n",
    "For the first function, to determinate $\\mu$,\n",
    "\n",
    "\\begin{eqnarray}\n",
    "\\mathbb{E}\\left[ S(T)\\mid N\\text{ jumps} \\right] &=& S(0)\\mathbb{E}\\left[e^{\\mu T + \\sigma z(T) + \\sum _ {i=1}^N J_i}\\right]\\\\\n",
    "&=& S(0)e^{\\mu T }  e^{\\frac{1}{2}\\sigma^2 T} \\Pi _ {i=1}^N e^{J_a + \\frac{1}{2}J_v}\\\\\n",
    "&=& S(0)e^{\\mu T  + \\frac{1}{2}\\sigma^2 T + N(J_a + \\frac{1}{2}J_v)}.\n",
    "\\end{eqnarray}\n",
    "\n",
    "So\n",
    "\\begin{eqnarray}\n",
    "F(T) &=& \\sum _ {N=0}^{\\infty} \\mathbb{P}(N) \\mathbb{E}\\left[ S(T)\\mid N\\text{ jumps} \\right]\\\\\n",
    "&=& S(0)\\sum _ {N=0}^{\\infty} \\frac{(\\lambda T)^N}{N!} e^{(\\mu -\\lambda) T  + \\frac{1}{2}\\sigma^2 T + N(J_a + \\frac{1}{2}J_v)}\\\\\n",
    "&=& S(0)e^{(\\mu -\\lambda) T  + \\frac{1}{2}\\sigma^2 T}\\sum _ {N=0}^{\\infty} \\frac{(\\lambda T e^{J_a + \\frac{1}{2}J_v})^N}{N!} \\\\\n",
    "&=& S(0)e^{(\\mu -\\lambda) T  + \\frac{1}{2}\\sigma^2 T + \\lambda T e^{J_a + \\frac{1}{2}J_v}}.\n",
    "\\end{eqnarray}\n",
    "\n",
    "then we have\n",
    "$$\n",
    "\\mu = \\frac{1}{T}\\log\\frac{F(T)}{S(0)} - \\frac{1}{2}\\sigma^2  - \\lambda \\left( e^{J_a + \\frac{1}{2}J_v} - 1\\right).\n",
    "$$"
   ]
  },
  {
   "cell_type": "markdown",
   "metadata": {},
   "source": [
    "For the second function,\n",
    "\n",
    "$$\n",
    "Var(\\ln{S(T)} | \\text{ N jumps}) = \\sigma^2 T +NJ_v\n",
    "$$\n",
    "\n",
    "so the conditional black-Scholes formula parameter $\\sigma_{BS} = \\sqrt{\\frac{ \\sigma^2 T +NJ_v}{T}}$\n",
    "\n",
    "The price value should be\n",
    "\n",
    "$$\n",
    "V = \\sum_{N=0}^{\\infty}BS\\left(\\mu = \\mathbb{E}\\left[ S(T)\\mid N\\text{ jumps} \\right], \\sigma = \\sqrt{\\frac{ \\sigma^2 T +NJ_v}{T}}\\right)P(N)\n",
    "$$"
   ]
  },
  {
   "cell_type": "code",
   "execution_count": 85,
   "metadata": {
    "ExecuteTime": {
     "end_time": "2019-10-06T20:01:41.113734Z",
     "start_time": "2019-10-06T20:01:40.891904Z"
    }
   },
   "outputs": [],
   "source": [
    "import numpy as np\n",
    "from scipy.integrate import quad\n",
    "from scipy.stats import norm\n",
    "import matplotlib.pyplot as plt"
   ]
  },
  {
   "cell_type": "code",
   "execution_count": 47,
   "metadata": {
    "ExecuteTime": {
     "end_time": "2019-10-06T19:35:40.409799Z",
     "start_time": "2019-10-06T19:35:40.388264Z"
    }
   },
   "outputs": [],
   "source": [
    "# return mu according to forward price\n",
    "def mu_fun(S0, Ft, T, sigma, lamb, Ja, Jv):   \n",
    "    return 1 / T * np.log(Ft / S0) - sigma**2/2 - lamb * (np.exp(Ja + Jv/2) - 1)\n",
    "\n",
    "# normal cdf \n",
    "def norm_cdf(x):\n",
    "    k = 1.0/(1.0+0.2316419*x)\n",
    "    k_sum = k * (0.319381530 + k * (-0.356563782 + \\\n",
    "        k * (1.781477937 + k * (-1.821255978 + 1.330274429 * k))))\n",
    "    if x >= 0.0:\n",
    "        return (1.0 - (1.0 / ((2 * np.pi)**0.5)) * np.exp(-0.5 * x * x) * k_sum)\n",
    "    else:\n",
    "        return 1.0 - norm_cdf(-x)\n",
    "\n",
    "# d in BS formula, when j=1, d-, when j=2, d+\n",
    "def d_j(j, S, K, r, v, T):\n",
    "    return (np.log(S/K) + (r + ((-1)**(j-1))*0.5*v*v)*T)/(v*(T**0.5))\n",
    "\n",
    "\n",
    "def vanilla_call_price(S, K, r, v, T):\n",
    "    return S * norm_cdf(d_j(1, S, K, r, v, T)) - \\\n",
    "        K*np.exp(-r*T) * norm_cdf(d_j(2, S, K, r, v, T))\n",
    "\n",
    "def vanilla_put_price(S, K, r, v, T):\n",
    "    return -S * norm_cdf(-d_j(1, S, K, r, v, T)) + \\\n",
    "        K*np.exp(-r*T) * norm_cdf(-d_j(2, S, K, r, v, T))"
   ]
  },
  {
   "cell_type": "code",
   "execution_count": 49,
   "metadata": {
    "ExecuteTime": {
     "end_time": "2019-10-06T19:35:47.220335Z",
     "start_time": "2019-10-06T19:35:47.209328Z"
    }
   },
   "outputs": [],
   "source": [
    "def option_pricing_1(S0, K, T, sigma, r, rf, lamb, Ja, Jv, is_call):\n",
    "    Ft = S0 * np.exp((r-rf)*T)\n",
    "    mu = mu_fun(S0, Ft, T, sigma, lamb, Ja, Jv)\n",
    "    \n",
    "    def char_fun(theta):\n",
    "        A = 1j * theta * mu * T - theta * theta * sigma * sigma * T / 2 \\\n",
    "          + lamb * T * (np.exp(1j * theta * Ja - theta * theta * Jv / 2) - 1)\n",
    "        return np.exp(1j * theta * np.log(S0) + A)\n",
    "    \n",
    "    def integrand(theta):\n",
    "        f = char_fun(theta)\n",
    "        res = f * np.exp(-1j * theta * np.log(K/S0)) / (theta * theta + 1j * theta)\n",
    "        return res.real\n",
    "    \n",
    "    ans, err = quad(integrand, 0, 1e3)\n",
    "\n",
    "    price = Ft - K /2 - K / np.pi * ans\n",
    "    \n",
    "    # put-call parity\n",
    "    if is_call == False:\n",
    "        price -= Ft - K\n",
    "\n",
    "    return price * np.exp(-r * T)"
   ]
  },
  {
   "cell_type": "code",
   "execution_count": 60,
   "metadata": {
    "ExecuteTime": {
     "end_time": "2019-10-06T19:36:55.723724Z",
     "start_time": "2019-10-06T19:36:55.695899Z"
    }
   },
   "outputs": [],
   "source": [
    "def option_pricing_2(S0, K, T, sigma, r, rf, lamb, Ja, Jv, is_call):\n",
    "    Ft = S0 * np.exp((r-rf)*T)\n",
    "    mu = mu_fun(S0, Ft, T, sigma, lamb, Ja, Jv)\n",
    "    \n",
    "    def mean(N):\n",
    "        return S0*np.exp(mu*T+0.5*sigma*sigma*T+(Ja+0.5*Jv)*N)\n",
    "    \n",
    "    def std(N):\n",
    "        return np.sqrt((sigma*sigma*T+N*Jv)/T)\n",
    "    \n",
    "    def P(N):\n",
    "        def factorial(n):\n",
    "            if n == 0:\n",
    "                return 1\n",
    "            else:\n",
    "                return n * factorial(n-1)\n",
    "        return (lamb*T)**N/factorial(N)*np.exp(-lamb*T)\n",
    "    \n",
    "    price = 0\n",
    "    \n",
    "    for N in range(0,100):\n",
    "        if is_call:\n",
    "            price += vanilla_call_price(mean(N), K, 0, std(N), T)*P(N)\n",
    "        else:\n",
    "            price += vanilla_put_price(mean(N), K, 0, std(N), T)*P(N)\n",
    "            \n",
    "    return price * np.exp(-r * T)  "
   ]
  },
  {
   "cell_type": "code",
   "execution_count": 61,
   "metadata": {
    "ExecuteTime": {
     "end_time": "2019-10-06T19:36:56.698213Z",
     "start_time": "2019-10-06T19:36:56.687568Z"
    }
   },
   "outputs": [],
   "source": [
    "S0 = 1\n",
    "Ft = S0 + 0.03\n",
    "T  = 0.5\n",
    "sigma = 0.07\n",
    "r = 0.05\n",
    "lamb = 3\n",
    "Ja = -0.04\n",
    "Jv = 0.15**2\n",
    "rf  = r - 1 / T * np.log(Ft / S0)"
   ]
  },
  {
   "cell_type": "code",
   "execution_count": 66,
   "metadata": {
    "ExecuteTime": {
     "end_time": "2019-10-06T19:42:34.927641Z",
     "start_time": "2019-10-06T19:42:34.649764Z"
    }
   },
   "outputs": [
    {
     "name": "stdout",
     "output_type": "stream",
     "text": [
      "test Call princing\n",
      "K =  0.1 difference =  2.7833291227352674e-13\n",
      "K =  0.2 difference =  2.390043718492052e-11\n",
      "K =  0.3 difference =  7.900035070562694e-10\n",
      "K =  0.4 difference =  5.11257858271108e-09\n",
      "K =  0.5 difference =  1.0561629681937745e-08\n",
      "K =  0.6 difference =  4.46103348705762e-09\n",
      "K =  0.7 difference =  2.716009528391794e-09\n",
      "K =  0.8 difference =  -1.0290252816513856e-09\n",
      "K =  0.9 difference =  -7.411948554914005e-10\n",
      "K =  1.0 difference =  -6.0849522642847376e-09\n",
      "K =  1.1 difference =  -4.1304928373453453e-08\n",
      "K =  1.2 difference =  2.5043166502342062e-08\n",
      "K =  1.3 difference =  3.1223931190593746e-08\n",
      "K =  1.4 difference =  -2.6382271320693484e-08\n",
      "K =  1.5 difference =  -2.447693208795093e-08\n",
      "K =  1.6 difference =  -1.2033731461389557e-09\n",
      "K =  1.7 difference =  1.8451172624067008e-08\n",
      "K =  1.8 difference =  2.9561403287541813e-08\n",
      "K =  1.9 difference =  3.316552131646562e-08\n",
      "K =  2.0 difference =  3.1742944068055686e-08\n",
      "test Put princing\n",
      "K =  0.1 difference =  2.78138439671113e-13\n",
      "K =  0.2 difference =  2.3900262124104905e-11\n",
      "K =  0.3 difference =  7.900032890977514e-10\n",
      "K =  0.4 difference =  5.112578592245283e-09\n",
      "K =  0.5 difference =  1.0561629941387325e-08\n",
      "K =  0.6 difference =  4.461033356628098e-09\n",
      "K =  0.7 difference =  2.716009518417134e-09\n",
      "K =  0.8 difference =  -1.029025363183389e-09\n",
      "K =  0.9 difference =  -7.411948138580371e-10\n",
      "K =  1.0 difference =  -6.0849522712236315e-09\n",
      "K =  1.1 difference =  -4.130492838039235e-08\n",
      "K =  1.2 difference =  2.5043166457239252e-08\n",
      "K =  1.3 difference =  3.1223931329371624e-08\n",
      "K =  1.4 difference =  -2.6382271312019867e-08\n",
      "K =  1.5 difference =  -2.447693203677659e-08\n",
      "K =  1.6 difference =  -1.2033731788818613e-09\n",
      "K =  1.7 difference =  1.8451172922873127e-08\n",
      "K =  1.8 difference =  2.956140332521784e-08\n",
      "K =  1.9 difference =  3.31655211072146e-08\n",
      "K =  2.0 difference =  3.1742944384127725e-08\n"
     ]
    }
   ],
   "source": [
    "# Test whether these two functions give same results\n",
    "print(\"test Call princing\")\n",
    "for K in range(1,21):\n",
    "    print(\"K = \", K/10, \"difference = \", option_pricing_1(S0, K/10, T, sigma, r, rf, lamb, Ja, Jv, True)\n",
    "          - option_pricing_2(S0, K/10, T, sigma, r, rf, lamb, Ja, Jv, True))\n",
    "    \n",
    "print(\"test Put princing\")\n",
    "for K in range(1,21):\n",
    "    print(\"K = \", K/10, \"difference = \", option_pricing_1(S0, K/10, T, sigma, r, rf, lamb, Ja, Jv, False)\n",
    "          - option_pricing_2(S0, K/10, T, sigma, r, rf, lamb, Ja, Jv, False))"
   ]
  },
  {
   "cell_type": "code",
   "execution_count": 95,
   "metadata": {
    "ExecuteTime": {
     "end_time": "2019-10-06T20:06:13.104030Z",
     "start_time": "2019-10-06T20:06:13.078584Z"
    }
   },
   "outputs": [],
   "source": [
    "# implied vol calculation\n",
    "def find_vol(target_value, call_put, S, K, T, r):\n",
    "    \n",
    "    n = norm.pdf\n",
    "    N = norm.cdf\n",
    "\n",
    "    def bs_price(cp_flag,S,K,T,r,v,q=0.0):\n",
    "        d1 = (np.log(S/K)+(r+v*v/2.)*T)/(v*np.sqrt(T))\n",
    "        d2 = d1-v*np.sqrt(T)\n",
    "        if cp_flag == 'c':\n",
    "            price = S*np.exp(-q*T)*N(d1)-K*np.exp(-r*T)*N(d2)\n",
    "        else:\n",
    "            price = K*np.exp(-r*T)*N(-d2)-S*np.exp(-q*T)*N(-d1)\n",
    "        return price\n",
    "\n",
    "    def bs_vega(cp_flag,S,K,T,r,v,q=0.0):\n",
    "        d1 = (np.log(S/K)+(r+v*v/2.)*T)/(v*np.sqrt(T))\n",
    "        return S * np.sqrt(T)*n(d1)\n",
    "\n",
    "    MAX_ITERATIONS = 100\n",
    "    PRECISION = 1.0e-5\n",
    "\n",
    "    sigma = 0.5\n",
    "    for i in range(0, MAX_ITERATIONS):\n",
    "        price = bs_price(call_put, S, K, T, r, sigma)\n",
    "        vega = bs_vega(call_put, S, K, T, r, sigma)\n",
    "\n",
    "        price = price\n",
    "        diff = target_value - price  # our root\n",
    "\n",
    "        if (abs(diff) < PRECISION):\n",
    "            return sigma\n",
    "        sigma = sigma + diff/vega # f(x) / f'(x)\n",
    "\n",
    "    # value wasn't found, return best guess so far\n",
    "    return sigma"
   ]
  },
  {
   "cell_type": "code",
   "execution_count": 98,
   "metadata": {
    "ExecuteTime": {
     "end_time": "2019-10-06T20:07:03.077023Z",
     "start_time": "2019-10-06T20:07:02.639326Z"
    }
   },
   "outputs": [
    {
     "name": "stderr",
     "output_type": "stream",
     "text": [
      "/home/zecophy/Documents/anaconda3/lib/python3.7/site-packages/ipykernel_launcher.py:33: RuntimeWarning: divide by zero encountered in double_scalars\n",
      "/home/zecophy/Documents/anaconda3/lib/python3.7/site-packages/ipykernel_launcher.py:8: RuntimeWarning: invalid value encountered in double_scalars\n",
      "  \n",
      "/home/zecophy/Documents/anaconda3/lib/python3.7/site-packages/ipykernel_launcher.py:17: RuntimeWarning: invalid value encountered in double_scalars\n",
      "/home/zecophy/Documents/anaconda3/lib/python3.7/site-packages/ipykernel_launcher.py:8: RuntimeWarning: overflow encountered in double_scalars\n",
      "  \n",
      "/home/zecophy/Documents/anaconda3/lib/python3.7/site-packages/ipykernel_launcher.py:17: RuntimeWarning: overflow encountered in double_scalars\n"
     ]
    },
    {
     "data": {
      "text/plain": [
       "Text(0.5, 1.0, 'implied volatility')"
      ]
     },
     "execution_count": 98,
     "metadata": {},
     "output_type": "execute_result"
    },
    {
     "data": {
      "image/png": "[encoded data removed]",
      "text/plain": [
       "<Figure size 864x432 with 1 Axes>"
      ]
     },
     "metadata": {
      "needs_background": "light"
     },
     "output_type": "display_data"
    }
   ],
   "source": [
    "strikes = []\n",
    "vols = []\n",
    "for K in np.arange(0.05,2,0.05):\n",
    "    price = option_pricing_1(S0, K, T, sigma, r, rf, lamb, Ja, Jv, True)\n",
    "    vol = find_vol(price, 'c', S0, K, T, r)\n",
    "    strikes.append(K)\n",
    "    vols.append(vol)\n",
    "\n",
    "plt.figure(figsize=(12, 6))\n",
    "plt.plot(strikes,vols)\n",
    "plt.xlabel(\"strike\")\n",
    "plt.ylabel(\"impvol\")\n",
    "plt.title(\"implied volatility\")"
   ]
  },
  {
   "cell_type": "markdown",
   "metadata": {},
   "source": [
    "#### Discuss the parameters $\\sigma,J_\\alpha,J_v,\\lambda$\n",
    "\n",
    "Increase either  $\\sigma,J_\\alpha,J_v$ would increase the ATM implied volatility.\n",
    "\n",
    "If $J_\\alpha$ is positive, then risk reversal would be positive. If $J_\\alpha$ is negative, then risk reversal would be negative. \n",
    "\n",
    "a larger  $J_v$ leads to a larger butterfly"
   ]
  }
 ],
 "metadata": {
  "kernelspec": {
   "display_name": "Python 3",
   "language": "python",
   "name": "python3"
  },
  "language_info": {
   "codemirror_mode": {
    "name": "ipython",
    "version": 3
   },
   "file_extension": ".py",
   "mimetype": "text/x-python",
   "name": "python",
   "nbconvert_exporter": "python",
   "pygments_lexer": "ipython3",
   "version": "3.7.4"
  },
  "latex_envs": {
   "LaTeX_envs_menu_present": true,
   "autoclose": false,
   "autocomplete": false,
   "bibliofile": "biblio.bib",
   "cite_by": "apalike",
   "current_citInitial": 1,
   "eqLabelWithNumbers": false,
   "eqNumInitial": 1,
   "hotkeys": {
    "equation": "Ctrl-E",
    "itemize": "Ctrl-I"
   },
   "labels_anchors": false,
   "latex_user_defs": false,
   "report_style_numbering": false,
   "user_envs_cfg": false
  },
  "varInspector": {
   "cols": {
    "lenName": 16,
    "lenType": 16,
    "lenVar": 40
   },
   "kernels_config": {
    "python": {
     "delete_cmd_postfix": "",
     "delete_cmd_prefix": "del ",
     "library": "var_list.py",
     "varRefreshCmd": "print(var_dic_list())"
    },
    "r": {
     "delete_cmd_postfix": ") ",
     "delete_cmd_prefix": "rm(",
     "library": "var_list.r",
     "varRefreshCmd": "cat(var_dic_list()) "
    }
   },
   "types_to_exclude": [
    "module",
    "function",
    "builtin_function_or_method",
    "instance",
    "_Feature"
   ],
   "window_display": false
  }
 },
 "nbformat": 4,
 "nbformat_minor": 2
}
