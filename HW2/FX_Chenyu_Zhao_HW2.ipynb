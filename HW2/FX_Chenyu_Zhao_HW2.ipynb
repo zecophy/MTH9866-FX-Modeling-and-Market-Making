{
 "cells": [
  {
   "cell_type": "markdown",
   "metadata": {},
   "source": [
    "# Lecture 2 (Forwards Markets) Assignment\n",
    "\n",
    "### Chenyu Zhao"
   ]
  },
  {
   "cell_type": "markdown",
   "metadata": {},
   "source": [
    "## Question 1 (4 marks)\n",
    "\n",
    "Why are correlations of daily returns of spot vs daily returns of forward prices so high in the FX markets? What are the two requirements a market must support to enforce a high correlation across the forward curve?"
   ]
  },
  {
   "cell_type": "markdown",
   "metadata": {},
   "source": [
    "### Answer\n",
    "\n",
    "The high correlation is because FX market has arbitrage relationship between forward and spot price. That arbitrage fixes the market forward price to the fair forward price\n",
    "\n",
    "$$\n",
    "F(t,T) = S(t)e^{[R(t,T)-Q(t,T)](T-t)}\n",
    "$$\n",
    "\n",
    "So they move in pair, thus have high correlation.\n",
    "\n",
    "two requirements for spot/forward arbitrage hold:\n",
    "1. You can store currencies (and receive an interest rate for them)\n",
    "2. You can borrow & short currencies (and pay an interest rate)"
   ]
  },
  {
   "cell_type": "markdown",
   "metadata": {},
   "source": [
    "## Question 2 (2 marks)\n",
    "\n",
    "Why is risk management more complex for an FX forwards risk manager than for an FX spot risk manager?"
   ]
  },
  {
   "cell_type": "markdown",
   "metadata": {},
   "source": [
    "### Answer\n",
    "\n",
    "Because tenor of the forward contract adds another dimension. Not all trades are fungible with each other, like with spot. Only “benchmark” tenors trade in the broker market for inter-dealer trades, while clients can trade any settlement date they like."
   ]
  },
  {
   "cell_type": "markdown",
   "metadata": {},
   "source": [
    "## Question 3 (2 marks)\n",
    "\n",
    "Explain why risk to FX forward points can be expressed as risk to non-USD interest rates."
   ]
  },
  {
   "cell_type": "markdown",
   "metadata": {},
   "source": [
    "### Answer\n",
    "\n",
    "FX forward points = $S(t)(e^{[R(t,T)-Q(t,T)](T-t)}-1)$.\n",
    "\n",
    "1. $S(t)$ spot rate can be hedged by spot desk\n",
    "2. $R(t,T)$ US rate can be hedged by rate desk\n",
    "3. $Q(t,T)$ foreign rate is the only part left in FX forward points, and cannot be hedged by other desk"
   ]
  },
  {
   "cell_type": "markdown",
   "metadata": {},
   "source": [
    "## Question 4 (4 marks)\n",
    "\n",
    "Assume a portfolio has just one FX forward position in it, settling on a date T which lies between two benchmark settlement dates T1 and T2. Derive the notionals N1 and N2 of the benchmark forwards which hedge the portfolio risk assuming triangle shocks to the benchmark non-USD interest rates, as shown on page 21 of the lecture notes."
   ]
  },
  {
   "cell_type": "markdown",
   "metadata": {},
   "source": [
    "### Answer \n",
    "\n",
    "We know\n",
    "$$\n",
    "V(T) = S_0 e^{-Q(T)T} - K e^{-R(T)T}\n",
    "$$\n",
    "\n",
    "$$\n",
    "V(T_1) = S_0 e^{-Q(T_1)T_1} - K e^{-R(T_1)T_1}\n",
    "$$\n",
    "\n",
    "$$\n",
    "V(T_2) = S_0 e^{-Q(T_2)T_2} - K e^{-R(T_2)T_2}\n",
    "$$\n",
    "\n",
    "where $T$ lies between two benchmark settlement dates $T_1$ and $T_2$ \n",
    "\n",
    "We construct a portfolio to hedge the risk, the portfolio long 1 unit V(t) and short $N_1V(T_1)$ and $N_2V(T_2)$ \n",
    "\n",
    "$$\\Pi = V(T)-N_1V(T_1)-N_2V(T_2)$$\n",
    "\n",
    "The portfolio should have \n",
    "\n",
    "$$\n",
    "\\frac{\\partial \\Pi}{\\partial Q(T_1)} = S_0 \\left[N_1 T_1  e^{-Q(T_1)T_1} - T  e^{-Q(T)T} \\frac{\\partial Q(T)}{\\partial Q(T_1)}\\right] =0\n",
    "$$\n",
    "\n",
    "and \n",
    "\n",
    "$$\n",
    "\\frac{\\partial \\Pi}{\\partial Q(T_2)} = S_0 \\left[N_2 T_2  e^{-Q(T_2)T_2} - T  e^{-Q(T)T} \\frac{\\partial Q(T)}{\\partial Q(T_2)}\\right] =0\n",
    "$$\n",
    "\n",
    "Assume triangle shock in non-US rate, then $\\frac{\\partial Q(T)}{\\partial Q(T_1)}=\\frac{T_2 - T}{T_2-T_1}$ and $\\frac{\\partial Q(T)}{\\partial Q(T_2)}=\\frac{T - T_1}{T_2-T_1}$\n",
    "\n",
    "So we have\n",
    "\n",
    "$$\n",
    "N_1=(\\frac{T_2-T}{T_2-T_1})\\frac{T}{T_1}e^{-Q(T)(T-T_1)}\n",
    "$$\n",
    "\n",
    "$$\n",
    "N_2=(\\frac{T-T_1}{T_2-T_1})\\frac{T}{T_2}e^{-Q(T)(T_2-T)}\n",
    "$$"
   ]
  },
  {
   "cell_type": "markdown",
   "metadata": {},
   "source": [
    "## Question 5 (4 marks)\n",
    "\n",
    "Explain principal component analysis and factor models, focusing on the differences between the two approaches to reduce dimensionality."
   ]
  },
  {
   "cell_type": "markdown",
   "metadata": {},
   "source": [
    "### Answer\n",
    "\n",
    "1. PCA: Look for most important (non-parametric) shocks that tend to drive moves in the whole curve. Use historical daily interest rate spread moves, particularly covariances between them, to figure out the factors. It picks largest few eigenvalues and approximating by linear combinations of corresponding eigenvectors \n",
    "\n",
    "2. Factor Models: Assume correlated Brownian motions drive different factors. Then use non-linear root finding to find the model parameters that best match the historical dynamics. The number of parameters is the number of dimension."
   ]
  },
  {
   "cell_type": "markdown",
   "metadata": {},
   "source": [
    "## Question 6 (10 marks)\n",
    "\n",
    "This programming question will try to determine whether using a factor-based approach to reducing dimensionality is better than an ad hoc method.\n",
    "\n",
    "We start by assuming a toy market: spot = 1, asset currency interest rate curve = Q(T) = flat at 3%, and denominated currency interest rate curve = R(T) = flat at 0%. We assume two benchmark dates, T1 = 0.25y and T2 = 1y; we will use forwards to those settlement dates to hedge the forward rate risk (or equivalently, the risk to moves in the asset currency interest rate) of our portfolio.\n",
    "\n",
    "In the toy market, we assume that we know the dynamics of the asset currency interest rate:\n",
    "\n",
    "where =1%/sqrt(yr), =0.8%/sqrt(yr), =0.5/yr, =0.1/yr, and =-0.4.\n",
    "\n",
    "The portfolio to hedge has one position: a unit asset-currency notional of a forward contract settling at time T. You’ll try this for values of T in [0.1,0.25,0.5,0.75,1,2] to see how performance changes for portfolios with risk to different tenors.\n",
    "\n",
    "You will try three different hedging strategies: one where you choose the hedge notionals (of forwards settling at times T1 and T2) based on the triangle shock we discussed in class (though as there are only two benchmarks here, the T1 shock will be flat before T1 and the T2 shock will be flat after T2); one where the notionals are set to hedge the actual two shocks from the factors described above; and lastly, one where you don’t hedge at all.\n",
    "\n",
    "The result should show that setting hedge notionals based on the true factor shocks should provide a better hedge performance than based on the ad hoc triangle shocks. You should analyze just how much better that performance is.\n",
    "\n",
    "Run a Monte Carlo simulation where you do the following on each run, for each value of T, for each of the three hedging strategies described above:\n",
    "\n",
    "    1. Construct a portfolio long 1 unit of the forward settling at time T\n",
    "    2. Add in the hedges: two forwards, settling at times T1 and T2, with notionals set to hedge the portfolio (either against the two triangle shocks or against the two factor shocks). Don’t bother adding the hedges in the third hedge scenario where we leave the portfolio unhedged.\n",
    "    3. Simulate the portfolio forward a time dt=0.001y. That will result in the asset-currency rates moving according to the factor model described above, which shocks the benchmark rates for tenors T1 and T2, and for the portfolio’s risk tenor T. Determine the PNL realized. \n",
    "Then construct the PNL distributions for the three hedging approaches. The unhedged version is the benchmark: you should compare how much more effectively the PNL standard deviation is reduced by hedging according to the true factors vs hedging according to the ad hoc triangle shocks.\n",
    "\n",
    "Do this for all the values of T listed above, and discuss your results.\n"
   ]
  },
  {
   "cell_type": "markdown",
   "metadata": {},
   "source": [
    "### Answer\n",
    "\n",
    "For factor case, under triangle shock\n",
    "\n",
    "$$\n",
    "\\frac{\\partial Q(T)}{\\partial Q(T_1)} = \\frac{e^{-\\beta_2T_2-\\beta_1T}-e^{-\\beta_1T_2-\\beta_2T}}{e^{-\\beta_1T_1-\\beta_2T_2}-e^{-\\beta_1T_2-\\beta_2T_1}}\n",
    "$$\n",
    "\n",
    "$$\n",
    "\\frac{\\partial Q(T)}{\\partial Q(T_2)} = \\frac{e^{-\\beta_1T_1-\\beta_2T}-e^{-\\beta_2T_1-\\beta_1T}}{e^{-\\beta_2T_2-\\beta_1T_1}-e^{-\\beta_2T_1-\\beta_1T_2}}\n",
    "$$\n",
    "\n",
    "substitute to \n",
    "\n",
    "$$\n",
    "N_1 = \\frac{\\partial Q(T)}{\\partial Q(T_1)}\\frac{T}{T_1}e^{-Q(T)(T-T_1)}\n",
    "$$\n",
    "\n",
    "$$\n",
    "N_2 = \\frac{\\partial Q(T)}{\\partial Q(T_2)}\\frac{T}{T_2}e^{-Q(T)(T-T_2)}\n",
    "$$\n",
    "\n",
    "to hedge"
   ]
  },
  {
   "cell_type": "code",
   "execution_count": 1,
   "metadata": {
    "ExecuteTime": {
     "end_time": "2019-09-18T16:20:40.367753Z",
     "start_time": "2019-09-18T16:20:40.293106Z"
    }
   },
   "outputs": [],
   "source": [
    "import math \n",
    "import scipy "
   ]
  },
  {
   "cell_type": "code",
   "execution_count": 2,
   "metadata": {
    "ExecuteTime": {
     "end_time": "2019-09-18T16:20:40.383493Z",
     "start_time": "2019-09-18T16:20:40.369284Z"
    }
   },
   "outputs": [],
   "source": [
    "Ts = [0.1,0.25,0.5,0.75,1,2]\n",
    "hedgeTypes = ['Triangle', 'Factor', 'No hedge']\n",
    "N = int(1e5) \n",
    "dt = 1e-3 \n",
    "\n",
    "S0 = 1 \n",
    "Q= 0.03\n",
    "R = 0.00 \n",
    "T1 = 0.25 \n",
    "T2 = 1 \n",
    "\n",
    "sigma1 = 0.01 \n",
    "sigma2 = 0.008 \n",
    "beta1 = 0.5 \n",
    "beta2= 0.1 \n",
    "rho = -0.4 \n",
    "\n",
    "def simulation(T, dt, N, hedgeType):\n",
    "    if hedgeType == 'Triangle':\n",
    "        if T>T2:\n",
    "            N1 = 0 \n",
    "            N2 = 1 \n",
    "        elif T<T1:\n",
    "            N1 = 1 \n",
    "            N2 = 0 \n",
    "        else:\n",
    "            N1 = (T2-T)/(T2-T1)\n",
    "            N2 = (T-T1)/(T2-T1)\n",
    "    elif hedgeType == 'Factor':\n",
    "        N1 = (math.exp(-beta2 * T2 - beta1 * T)-math.exp(-beta1 * T2 - beta2 * T))/(math.exp(-beta1 * T1 - beta2 * T2)-math.exp(-beta1 * T2 - beta2 * T1))\n",
    "        N2 = (math.exp(-beta1 * T1 - beta2 * T)-math.exp(-beta2 * T1 - beta1 * T))/(math.exp(-beta1 * T1 - beta2 * T2)-math.exp(-beta1 * T2 - beta2 * T1))\n",
    "    else:\n",
    "        N1 = 0 \n",
    "        N2 = 0 \n",
    "    \n",
    "    \n",
    "    N1 *= (T / T1) * math.exp(-Q * (T - T1))\n",
    "    N2 *= (T / T2) * math.exp(-Q * (T - T2))\n",
    "\n",
    "    dw1 = scipy.random.normal(0, math.sqrt(dt), N)\n",
    "    dw2 = scipy.random.normal(0, math.sqrt(dt), N)\n",
    "    dz1 = dw1\n",
    "    dz2 = rho * dw1 + math.sqrt(1 - rho ** 2) * dw2\n",
    "\n",
    "    dQT = sigma1 * math.exp(-beta1 * T)  * dz1 + sigma2 * math.exp(-beta2 * T)  * dz2\n",
    "    dQ1 = sigma1 * math.exp(-beta1 * T1) * dz1 + sigma2 * math.exp(-beta2 * T1) * dz2\n",
    "    dQ2 = sigma1 * math.exp(-beta1 * T2) * dz1 + sigma2 * math.exp(-beta2 * T2) * dz2\n",
    "\n",
    "    pnls = S0 * math.exp(-Q * T) * (scipy.exp(-dQT * T) - 1)\n",
    "    pnls -= N1 * S0 * math.exp(-Q * T1) * (scipy.exp(-dQ1 * T1) - 1)  \n",
    "    pnls -= N2 * S0 * math.exp(-Q * T2) * (scipy.exp(-dQ2 * T2) - 1)\n",
    "\n",
    "    return (pnls.mean(), pnls.std())"
   ]
  },
  {
   "cell_type": "code",
   "execution_count": 3,
   "metadata": {
    "ExecuteTime": {
     "end_time": "2019-09-18T16:20:40.720191Z",
     "start_time": "2019-09-18T16:20:40.385170Z"
    }
   },
   "outputs": [
    {
     "name": "stdout",
     "output_type": "stream",
     "text": [
      "T =  0.1\n",
      "  No hedge std:  3.035622658513886e-05\n",
      "  Triangle std:  2.048759897031631e-06 , relative ratio compare to no hedge:  0.06749059838796362\n",
      "  Factor std:  3.7456197441432754e-10 , relative ratio compare to no hedge:  1.2338884523865605e-05\n",
      "T =  0.25\n",
      "  No hedge std:  7.184032790960915e-05\n",
      "  Triangle std:  0.0 , relative ratio compare to no hedge:  0.0\n",
      "  Factor std:  0.0 , relative ratio compare to no hedge:  0.0\n",
      "T =  0.5\n",
      "  No hedge std:  0.00013182225499102116\n",
      "  Triangle std:  1.8044887768154263e-06 , relative ratio compare to no hedge:  0.01368880222037118\n",
      "  Factor std:  1.350852431285015e-09 , relative ratio compare to no hedge:  1.024752938247814e-05\n",
      "T =  0.75\n",
      "  No hedge std:  0.00018158365137431638\n",
      "  Triangle std:  2.563531013452465e-06 , relative ratio compare to no hedge:  0.014117631152641624\n",
      "  Factor std:  1.7348745976975343e-09 , relative ratio compare to no hedge:  9.55413433184723e-06\n",
      "T =  1\n",
      "  No hedge std:  0.00022605985126868445\n",
      "  Triangle std:  0.0 , relative ratio compare to no hedge:  0.0\n",
      "  Factor std:  0.0 , relative ratio compare to no hedge:  0.0\n",
      "T =  2\n",
      "  No hedge std:  0.0003626225746969014\n",
      "  Triangle std:  0.00013112480805583724 , relative ratio compare to no hedge:  0.3616013376040863\n",
      "  Factor std:  3.345546040106255e-08 , relative ratio compare to no hedge:  9.225972880763517e-05\n"
     ]
    }
   ],
   "source": [
    "for T in Ts:\n",
    "    print('T = ',T)\n",
    "    mean0, std0 = simulation(T,dt,N,'No hedge')\n",
    "    mean1, std1 = simulation(T,dt,N,'Triangle')\n",
    "    mean2, std2 = simulation(T,dt,N,'Factor')\n",
    "    print(\"  No hedge std: \",std0)\n",
    "    print(\"  Triangle std: \",std1,\", relative ratio compare to no hedge: \",std1/std0)\n",
    "    print(\"  Factor std: \",std2,\", relative ratio compare to no hedge: \",std2/std0)"
   ]
  },
  {
   "cell_type": "markdown",
   "metadata": {},
   "source": [
    "#### Factor model hedge is almost perfect for all T. when $T_1<T<T_2$, the triangle hedge performs good, the relative ratio is less then 2%. But when $T>T_2$ or $T<T_1$, performance is much worse. When $T=T_2$ or $T=T_1$, both methods perfectly hedge."
   ]
  }
 ],
 "metadata": {
  "kernelspec": {
   "display_name": "Python 3",
   "language": "python",
   "name": "python3"
  },
  "language_info": {
   "codemirror_mode": {
    "name": "ipython",
    "version": 3
   },
   "file_extension": ".py",
   "mimetype": "text/x-python",
   "name": "python",
   "nbconvert_exporter": "python",
   "pygments_lexer": "ipython3",
   "version": "3.7.4"
  },
  "latex_envs": {
   "LaTeX_envs_menu_present": true,
   "autoclose": true,
   "autocomplete": true,
   "bibliofile": "biblio.bib",
   "cite_by": "apalike",
   "current_citInitial": 1,
   "eqLabelWithNumbers": false,
   "eqNumInitial": 1,
   "hotkeys": {
    "equation": "Ctrl-E",
    "itemize": "Ctrl-I"
   },
   "labels_anchors": false,
   "latex_user_defs": false,
   "report_style_numbering": false,
   "user_envs_cfg": false
  },
  "toc": {
   "base_numbering": 1,
   "nav_menu": {},
   "number_sections": true,
   "sideBar": true,
   "skip_h1_title": false,
   "title_cell": "Table of Contents",
   "title_sidebar": "Contents",
   "toc_cell": false,
   "toc_position": {},
   "toc_section_display": true,
   "toc_window_display": false
  },
  "varInspector": {
   "cols": {
    "lenName": 16,
    "lenType": 16,
    "lenVar": 40
   },
   "kernels_config": {
    "python": {
     "delete_cmd_postfix": "",
     "delete_cmd_prefix": "del ",
     "library": "var_list.py",
     "varRefreshCmd": "print(var_dic_list())"
    },
    "r": {
     "delete_cmd_postfix": ") ",
     "delete_cmd_prefix": "rm(",
     "library": "var_list.r",
     "varRefreshCmd": "cat(var_dic_list()) "
    }
   },
   "types_to_exclude": [
    "module",
    "function",
    "builtin_function_or_method",
    "instance",
    "_Feature"
   ],
   "window_display": false
  }
 },
 "nbformat": 4,
 "nbformat_minor": 2
}
