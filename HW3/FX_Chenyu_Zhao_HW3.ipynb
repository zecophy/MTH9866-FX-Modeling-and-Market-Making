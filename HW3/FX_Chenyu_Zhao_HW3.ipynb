{
 "cells": [
  {
   "cell_type": "markdown",
   "metadata": {},
   "source": [
    "# Lecture 3 (Options Markets) Assignment\n",
    "\n",
    "## Chenyu Zhao"
   ]
  },
  {
   "cell_type": "markdown",
   "metadata": {},
   "source": [
    "### Question 1 (4 marks)\n",
    "\n",
    "Derive the expression for the ATM strike, given the ATM volatility and other market parameters, in the case where the market convention premium currency is the asset currency. In that case the price of the portfolio is\n",
    "\n",
    "\n",
    "\n",
    "where  is the price of the portfolio (which varies with spot S),  is the price of the option (which varies with spot S), S is the spot,  is the initial spot (at the time of the trade), and  is the initial price of the option (equal to ). Note that the option here might be a call or might be a put.\n",
    "\n",
    "Calculate the derivative of  with respect to S to get the delta of the portfolio (taking at spot S=), and then solve for the strike that makes the delta of a call portfolio equal to the negative of the delta of a put portfolio (using Black-Scholes formulas for the call and put prices and deltas)."
   ]
  },
  {
   "cell_type": "markdown",
   "metadata": {},
   "source": [
    "#### Answer\n",
    "\n",
    "Delta of the portfolio is \n",
    "\n",
    "$$\n",
    "\\Delta_{\\pi}(S) = \\Delta(S) - \\frac{\\nu_0}{S_0}\n",
    "$$\n",
    "\n",
    "When $S=S_0$\n",
    "\n",
    "$$\n",
    "\\Delta_{\\pi}(S_0) = \\Delta(S_0) - \\frac{\\nu_0}{S_0}\n",
    "$$\n",
    "\n",
    "When deltas of call option and put option are equal,\n",
    "\n",
    "$$\n",
    "\\Delta_{call} = e^{-QT}N(d_1) = \\Delta_{put} = e^{-QT}N(-d_1)\n",
    "$$\n",
    "\n",
    "So we have $d_1 = 0$, which means\n",
    "\n",
    "$$\n",
    "ln(\\frac{S}{K}) + (R-Q+\\frac{\\sigma^2}{2})T=0\n",
    "$$\n",
    "\n",
    "because $F = Se^{(R-Q)T}$, therefore\n",
    "\n",
    "$$\n",
    "K = Fe^{\\frac{\\sigma^2T}{2}}\n",
    "$$"
   ]
  },
  {
   "cell_type": "markdown",
   "metadata": {},
   "source": [
    "### Question 2 (4 marks)\n",
    "\n",
    "Assume an FX market where the spot is 1, time to expiration is 0.5y, forward points are +0.0040, and the denominated discount rate is 1.75%. What is the strike corresponding to a 25-delta call option when its implied volatility is 8.75%, using market-convention delta? Assume the market convention premium currency is the denominated currency."
   ]
  },
  {
   "cell_type": "markdown",
   "metadata": {},
   "source": [
    "#### Answer\n",
    "\n",
    "$$\n",
    "K_c = Fe^{\\frac{\\sigma_k^2}{2}T-\\sigma_k\\sqrt{T}N^{-1}(\\Delta_c e^{qT})}\n",
    "$$\n",
    "\n",
    "where $F =\\text{spot}+\\text{forward point} = 1.0040$, $\\sigma_k$ is the implied volatility $8.75\\%$, $\\Delta_c = 0.25$\n",
    "\n",
    "We also have $F = S_0e^{(r-q)T}$, and we know $F$ and $r=1.75\\%$, thus we can solve $q=0.952\\%$\n",
    "\n",
    "Finally we have $K_c=1.0485$"
   ]
  },
  {
   "cell_type": "markdown",
   "metadata": {},
   "source": [
    "### Question 3 (2 marks)\n",
    "\n",
    "Describe the risk reversal “beta”."
   ]
  },
  {
   "cell_type": "markdown",
   "metadata": {},
   "source": [
    "#### Answer\n",
    "\n",
    "Moves in risk reversals have a relatively high correlation with moves in spot. This is often quantified as the “risk reversal beta”, or the slope of a linear regression of day-on-day risk reversal change against spot log return. A number like 0.2 means “risk reversal gets more positive by 0.2 vols for every 1% move up in spot”.\n",
    "\n",
    "You can run a regression to get the estimated beta as slope. The risk reversal beta is a curve, has value for every specific tenor."
   ]
  },
  {
   "cell_type": "markdown",
   "metadata": {},
   "source": [
    "### Question 4 (2 marks)\n",
    "\n",
    "Explain the two arbitrage conditions that should be avoided when interpolating in the strike direction, and the one (weak) arbitrage condition to avoid when interpolating in the time direction.\n"
   ]
  },
  {
   "cell_type": "markdown",
   "metadata": {},
   "source": [
    "#### Answer \n",
    "\n",
    "two arbitrage conditions that should be avoided:\n",
    "1. $\\frac{dC}{dK}>0$\n",
    "\n",
    "2. $\\frac{d^2C}{dK^2}<0$\n",
    "\n",
    "one (weak) arbitrage condition to avoid when interpolating in the time direction:\n",
    "\n",
    "1. $\\sigma_i^2(T)T$ should always increase, where $\\sigma_i$ is implied volatility"
   ]
  },
  {
   "cell_type": "markdown",
   "metadata": {},
   "source": [
    "### Question 5 (10 marks)\n",
    "\n",
    "Implement a cubic spline interpolation for implied volatility vs strike which has non-standard boundary conditions to give more intuitive volatility extrapolation.\n",
    "\n",
    "Assume you are given five implied volatilities,  through , for five known strikes,  through , for some known time to expiration .\n",
    "\n",
    "Set up the boundary condition of the cubic spline such that implied volatility reaches a constant value a certain distance beyond the edge points. The distance is defined by a parameter, the cubic spline extrapolation parameter, F. On the left side, for strikes less than the minimum marked strike , implied volatility reaches a constant value at strike :\n",
    "\n",
    "\n",
    "\n",
    "and on the right side, for strikes greater that the maximum marked strike , implied volatility reaches a constant value at strike :\n",
    "\n",
    "\n",
    "\n",
    "Start with the standard method for defining a cubic spline (eg here: http://www.aip.de/groups/soe/local/numres/bookcpdf/c3-3.pdf), but add in two extra points at  and  where you know that the slope of vol vs strike goes to zero, and the second derivative of vol vs strike goes to zero, but where you do not know the value of volatility (that comes out of the solution for the cubic spline). Of course the first and second derivatives of vol vs strike should be continuous across  and .\n",
    "\n",
    "Implement a Python class that is initialized with the five strikes, five implied volatilities, time to expiration, and cubic spline extrapolation parameter. As part of initialization it will need to solve a linear system to generate the cubic spline parameters, for which you can use the functions in the scipy or numpy packages. The class should include a “volatility” method that takes a strike and returns an interpolated volatility.\n",
    "\n",
    "Finally, generate plots of implied volatility vs strike for F=0.01 and F=10 for the following market: T=0.5y; ATM volatility of 8%, 25-delta risk reversal of 1%, 10-delta risk reversal of 1.8%, 25-delta butterfly of 0.25%, and 10-delta butterfly of 0.80%; spot=1; forward points=0; denominated discount rate=0%. You should return one chart with the two curves on it, showing implied volatility vs strike for all strikes between the 1-delta put and 1-delta call. \n",
    "\n",
    "Give some intuition behind the shape of the two plots in terms of the value of F."
   ]
  },
  {
   "cell_type": "markdown",
   "metadata": {},
   "source": [
    "#### Answer"
   ]
  },
  {
   "cell_type": "code",
   "execution_count": 11,
   "metadata": {
    "ExecuteTime": {
     "end_time": "2019-09-19T13:35:03.070647Z",
     "start_time": "2019-09-19T13:35:02.572706Z"
    }
   },
   "outputs": [],
   "source": [
    "import bisect\n",
    "from scipy.stats import norm\n",
    "import numpy as np\n",
    "import matplotlib.pyplot as plt"
   ]
  },
  {
   "cell_type": "code",
   "execution_count": 21,
   "metadata": {
    "ExecuteTime": {
     "end_time": "2019-09-19T13:42:46.740977Z",
     "start_time": "2019-09-19T13:42:46.678492Z"
    }
   },
   "outputs": [],
   "source": [
    "class CubicSpline:  \n",
    "    def __init__(self, Ks, vols, T, F):\n",
    "        \n",
    "        K_min = Ks[0]  * np.exp(-F * vols[0]  * np.sqrt(T))\n",
    "        K_max = Ks[-1] * np.exp( F * vols[-1] * np.sqrt(T))\n",
    "        self.Ks = [K_min] + Ks + [K_max]\n",
    "        \n",
    "        M = np.array([[0.0 for i in range(24)] for j in range(24)])\n",
    "        \n",
    "        for i in range(5):\n",
    "            M[4*i+2][4*i] = 1\n",
    "            M[4*i+2][4*i+1] = self.Ks[i+1]\n",
    "            M[4*i+2][4*i+2] = self.Ks[i+1]**2\n",
    "            M[4*i+2][4*i+3] = self.Ks[i+1]**3\n",
    "            \n",
    "            M[4*i+3][4*i] = 1\n",
    "            M[4*i+3][4*i+1] = self.Ks[i+1]\n",
    "            M[4*i+3][4*i+2] = self.Ks[i+1]**2\n",
    "            M[4*i+3][4*i+3] = self.Ks[i+1]**3\n",
    "            M[4*i+3][4*i+4] = -1\n",
    "            M[4*i+3][4*i+5] = -self.Ks[i+1]\n",
    "            M[4*i+3][4*i+6] = -self.Ks[i+1]**2\n",
    "            M[4*i+3][4*i+7] = -self.Ks[i+1]**3\n",
    "            \n",
    "            M[4*i+4][4*i+1] = 1\n",
    "            M[4*i+4][4*i+2] = 2*self.Ks[i+1]\n",
    "            M[4*i+4][4*i+3] = 3*self.Ks[i+1]**2\n",
    "            M[4*i+4][4*i+5] = -1\n",
    "            M[4*i+4][4*i+6] = -2*self.Ks[i+1]\n",
    "            M[4*i+4][4*i+7] = -3*self.Ks[i+1]**2\n",
    "            \n",
    "            M[4*i+5][4*i+2] = 2\n",
    "            M[4*i+5][4*i+3] = 6*self.Ks[i+1]\n",
    "            M[4*i+5][4*i+6] = -2\n",
    "            M[4*i+5][4*i+7] = -6*self.Ks[i+1]\n",
    "        \n",
    "        \n",
    "        # left boundary\n",
    "        M[0][1] = 1\n",
    "        M[0][2] = 2*K_min\n",
    "        M[0][3] = 3*K_min*K_min\n",
    "        M[1][2] = 2\n",
    "        M[1][3] = 6*K_min\n",
    "        \n",
    "        # right boundary\n",
    "        M[24-2][24-3] = 1\n",
    "        M[24-2][24-2] = 2*K_max\n",
    "        M[24-2][24-1] = 3*K_max*K_max\n",
    "        M[24-1][24-2] = 2\n",
    "        M[24-1][24-1] = 6*K_max\n",
    "        \n",
    "        # y, where Mx=y  \n",
    "        y = np.zeros(24)\n",
    "        for i in range(5): # i=0,...,4\n",
    "            y[4*i+2] = vols[i]\n",
    "        \n",
    "        # solve linear system\n",
    "        x = np.linalg.solve(M,y)\n",
    "        \n",
    "        # different orders' coefficients\n",
    "        self.x1 = [ x[4*i] for i in range(6) ]\n",
    "        self.x2 = [ x[4*i+1] for i in range(6) ]\n",
    "        self.x3 = [ x[4*i+2] for i in range(6) ]\n",
    "        self.x4 = [ x[4*i+3] for i in range(6) ]\n",
    "        \n",
    "        \n",
    "    def impvol(self, K):\n",
    "        \n",
    "        # if out of boundary\n",
    "        if K < self.Ks[0]:\n",
    "            K = self.Ks[0]\n",
    "        elif K > self.Ks[-1]:\n",
    "            K = self.Ks[-1]\n",
    "            \n",
    "        index = bisect.bisect_left(self.Ks, K)-1 \n",
    "        if index < 0:\n",
    "            index = 0\n",
    "        elif index > 5:\n",
    "            index = 5\n",
    "            \n",
    "        x1 = self.x1[index]\n",
    "        x2 = self.x2[index]\n",
    "        x3 = self.x3[index]\n",
    "        x4 = self.x4[index]\n",
    "        \n",
    "        return x1 + x2*K + x3*K**2 + x4*K**3"
   ]
  },
  {
   "cell_type": "code",
   "execution_count": 22,
   "metadata": {
    "ExecuteTime": {
     "end_time": "2019-09-19T13:42:47.183894Z",
     "start_time": "2019-09-19T13:42:47.138522Z"
    }
   },
   "outputs": [],
   "source": [
    "F1 = 0.01\n",
    "F2 = 10\n",
    "T = 0.5\n",
    "spot = 1\n",
    "\n",
    "atm = 0.08\n",
    "reversal25 = 0.01\n",
    "reversal10 = 0.018\n",
    "butterfly25 = 0.0025\n",
    "butterfly10 = 0.0080\n",
    "\n",
    "# solve vol \n",
    "vol25c = atm + reversal25 / 2 + butterfly25\n",
    "vol25p = atm - reversal25 / 2 + butterfly25\n",
    "vol10c = atm + reversal10 / 2 + butterfly10\n",
    "vol10p = atm - reversal10 / 2 + butterfly10\n",
    "\n",
    "# solve strike\n",
    "atmK = spot * np.exp(atm**2 * T /2.)\n",
    "K25c  = spot * np.exp(vol25c**2  * T / 2. - vol25c * np.sqrt(T) * norm.ppf(0.25))\n",
    "K25p  = spot * np.exp(vol25p**2  * T / 2. + vol25p * np.sqrt(T) * norm.ppf(0.25))\n",
    "K10c  = spot * np.exp(vol10c**2  * T / 2. - vol10c * np.sqrt(T) * norm.ppf(0.10))\n",
    "K10p  = spot * np.exp(vol10p**2  * T / 2. + vol10p * np.sqrt(T) * norm.ppf(0.10))\n",
    "\n",
    "Ks = [K10p, K25p, atmK, K25c, K10c]\n",
    "vols = [vol10p, vol25p, atm, vol25c, vol10c]\n",
    "\n",
    "# create cubic spline classes\n",
    "CS1 = CubicSpline(Ks, vols, T, F1)\n",
    "CS2 = CubicSpline(Ks, vols, T, F2)"
   ]
  },
  {
   "cell_type": "code",
   "execution_count": 28,
   "metadata": {
    "ExecuteTime": {
     "end_time": "2019-09-19T13:44:40.352047Z",
     "start_time": "2019-09-19T13:44:40.336810Z"
    }
   },
   "outputs": [],
   "source": [
    "# set grid to plot\n",
    "c = spot * np.exp(vol10p ** 2 * T / 2. + vol10p * np.sqrt(T) * norm.ppf(0.01))\n",
    "K_max = spot * np.exp(vol10c ** 2 * T / 2. - vol10c * np.sqrt(T) * norm.ppf(0.01))\n",
    "\n",
    "# plot 1000 points for strike\n",
    "n = 1000\n",
    "dK = (K_max - K_min ) / (n - 1)\n",
    "K_list,vol1_list,vol2_list = [], [], []\n",
    "\n",
    "for i in range(n):\n",
    "    K = K_min + i * dK\n",
    "    K_list.append(K_min + i * dK)\n",
    "    vol1_list.append(CS1.impvol(K) * 100)\n",
    "    vol2_list.append(CS2.impvol(K) * 100)"
   ]
  },
  {
   "cell_type": "code",
   "execution_count": 29,
   "metadata": {
    "ExecuteTime": {
     "end_time": "2019-09-19T13:44:41.077474Z",
     "start_time": "2019-09-19T13:44:40.930688Z"
    }
   },
   "outputs": [
    {
     "data": {
      "image/png": "[encoded data removed]",
      "text/plain": [
       "<Figure size 432x288 with 1 Axes>"
      ]
     },
     "metadata": {
      "needs_background": "light"
     },
     "output_type": "display_data"
    }
   ],
   "source": [
    "line1, = plt.plot(K_list, vol1_list, label='F=0.01')\n",
    "line2, = plt.plot(K_list, vol2_list, label='F=10.0')\n",
    "plt.xlabel('Strikes')\n",
    "plt.ylabel('Implied Vol')\n",
    "plt.legend()\n",
    "plt.show()"
   ]
  },
  {
   "cell_type": "markdown",
   "metadata": {},
   "source": [
    "F represents the preset vol outside of the boundary. We can see for $F=0.01$, it flats very quickly. For $F=10$, it goes linearly because 10 is far away from the market point."
   ]
  }
 ],
 "metadata": {
  "kernelspec": {
   "display_name": "Python 3",
   "language": "python",
   "name": "python3"
  },
  "language_info": {
   "codemirror_mode": {
    "name": "ipython",
    "version": 3
   },
   "file_extension": ".py",
   "mimetype": "text/x-python",
   "name": "python",
   "nbconvert_exporter": "python",
   "pygments_lexer": "ipython3",
   "version": "3.7.4"
  },
  "latex_envs": {
   "LaTeX_envs_menu_present": true,
   "autoclose": false,
   "autocomplete": false,
   "bibliofile": "biblio.bib",
   "cite_by": "apalike",
   "current_citInitial": 1,
   "eqLabelWithNumbers": false,
   "eqNumInitial": 1,
   "hotkeys": {
    "equation": "Ctrl-E",
    "itemize": "Ctrl-I"
   },
   "labels_anchors": false,
   "latex_user_defs": false,
   "report_style_numbering": false,
   "user_envs_cfg": false
  },
  "varInspector": {
   "cols": {
    "lenName": 16,
    "lenType": 16,
    "lenVar": 40
   },
   "kernels_config": {
    "python": {
     "delete_cmd_postfix": "",
     "delete_cmd_prefix": "del ",
     "library": "var_list.py",
     "varRefreshCmd": "print(var_dic_list())"
    },
    "r": {
     "delete_cmd_postfix": ") ",
     "delete_cmd_prefix": "rm(",
     "library": "var_list.r",
     "varRefreshCmd": "cat(var_dic_list()) "
    }
   },
   "types_to_exclude": [
    "module",
    "function",
    "builtin_function_or_method",
    "instance",
    "_Feature"
   ],
   "window_display": false
  }
 },
 "nbformat": 4,
 "nbformat_minor": 2
}
